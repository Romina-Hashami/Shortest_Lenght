{
 "cells": [
  {
   "cell_type": "code",
   "execution_count": 1,
   "id": "35d76156",
   "metadata": {},
   "outputs": [],
   "source": [
    "import pandas as pd\n",
    "from itertools import groupby"
   ]
  },
  {
   "cell_type": "code",
   "execution_count": 2,
   "id": "e24b2784",
   "metadata": {},
   "outputs": [],
   "source": [
    "file = 'SHORTSEA_MUN_C7_V3_HE_1.txt'"
   ]
  },
  {
   "cell_type": "code",
   "execution_count": 3,
   "id": "e9171639",
   "metadata": {},
   "outputs": [],
   "source": [
    "number_of_vessels = 3\n",
    "number_of_ports = 39\n",
    "number_of_cargoes = 7\n"
   ]
  },
  {
   "cell_type": "code",
   "execution_count": 4,
   "id": "03f6aa8a",
   "metadata": {},
   "outputs": [],
   "source": [
    "df_home_port = pd.read_csv(file, skiprows = 18, nrows = 3, encoding=\"latin1\", names = ['vessel index', 'home port', 'starting time', 'capacity'])"
   ]
  },
  {
   "cell_type": "code",
   "execution_count": 5,
   "id": "55e40d38",
   "metadata": {},
   "outputs": [
    {
     "data": {
      "text/html": [
       "<div>\n",
       "<style scoped>\n",
       "    .dataframe tbody tr th:only-of-type {\n",
       "        vertical-align: middle;\n",
       "    }\n",
       "\n",
       "    .dataframe tbody tr th {\n",
       "        vertical-align: top;\n",
       "    }\n",
       "\n",
       "    .dataframe thead th {\n",
       "        text-align: right;\n",
       "    }\n",
       "</style>\n",
       "<table border=\"1\" class=\"dataframe\">\n",
       "  <thead>\n",
       "    <tr style=\"text-align: right;\">\n",
       "      <th></th>\n",
       "      <th>vessel index</th>\n",
       "      <th>home port</th>\n",
       "      <th>starting time</th>\n",
       "      <th>capacity</th>\n",
       "    </tr>\n",
       "  </thead>\n",
       "  <tbody>\n",
       "    <tr>\n",
       "      <th>0</th>\n",
       "      <td>1</td>\n",
       "      <td>8</td>\n",
       "      <td>125</td>\n",
       "      <td>13200</td>\n",
       "    </tr>\n",
       "    <tr>\n",
       "      <th>1</th>\n",
       "      <td>2</td>\n",
       "      <td>13</td>\n",
       "      <td>106</td>\n",
       "      <td>13200</td>\n",
       "    </tr>\n",
       "    <tr>\n",
       "      <th>2</th>\n",
       "      <td>3</td>\n",
       "      <td>31</td>\n",
       "      <td>0</td>\n",
       "      <td>16500</td>\n",
       "    </tr>\n",
       "  </tbody>\n",
       "</table>\n",
       "</div>"
      ],
      "text/plain": [
       "   vessel index  home port  starting time  capacity\n",
       "0             1          8            125     13200\n",
       "1             2         13            106     13200\n",
       "2             3         31              0     16500"
      ]
     },
     "execution_count": 5,
     "metadata": {},
     "output_type": "execute_result"
    }
   ],
   "source": [
    "df_home_port"
   ]
  },
  {
   "cell_type": "code",
   "execution_count": 6,
   "id": "5918598d",
   "metadata": {},
   "outputs": [],
   "source": [
    "df_compatibility = pd.read_csv(file, skiprows = 24, nrows = 3, encoding=\"latin1\", names = ['vessel index', 'com1', 'com2','com3','com4', 'com5','com6', 'com7'])"
   ]
  },
  {
   "cell_type": "code",
   "execution_count": 7,
   "id": "9e5d4c6d",
   "metadata": {},
   "outputs": [
    {
     "data": {
      "text/html": [
       "<div>\n",
       "<style scoped>\n",
       "    .dataframe tbody tr th:only-of-type {\n",
       "        vertical-align: middle;\n",
       "    }\n",
       "\n",
       "    .dataframe tbody tr th {\n",
       "        vertical-align: top;\n",
       "    }\n",
       "\n",
       "    .dataframe thead th {\n",
       "        text-align: right;\n",
       "    }\n",
       "</style>\n",
       "<table border=\"1\" class=\"dataframe\">\n",
       "  <thead>\n",
       "    <tr style=\"text-align: right;\">\n",
       "      <th></th>\n",
       "      <th>vessel index</th>\n",
       "      <th>com1</th>\n",
       "      <th>com2</th>\n",
       "      <th>com3</th>\n",
       "      <th>com4</th>\n",
       "      <th>com5</th>\n",
       "      <th>com6</th>\n",
       "      <th>com7</th>\n",
       "    </tr>\n",
       "  </thead>\n",
       "  <tbody>\n",
       "    <tr>\n",
       "      <th>0</th>\n",
       "      <td>1</td>\n",
       "      <td>1</td>\n",
       "      <td>3</td>\n",
       "      <td>7</td>\n",
       "      <td>NaN</td>\n",
       "      <td>NaN</td>\n",
       "      <td>NaN</td>\n",
       "      <td>NaN</td>\n",
       "    </tr>\n",
       "    <tr>\n",
       "      <th>1</th>\n",
       "      <td>2</td>\n",
       "      <td>1</td>\n",
       "      <td>3</td>\n",
       "      <td>7</td>\n",
       "      <td>NaN</td>\n",
       "      <td>NaN</td>\n",
       "      <td>NaN</td>\n",
       "      <td>NaN</td>\n",
       "    </tr>\n",
       "    <tr>\n",
       "      <th>2</th>\n",
       "      <td>3</td>\n",
       "      <td>1</td>\n",
       "      <td>2</td>\n",
       "      <td>3</td>\n",
       "      <td>4.0</td>\n",
       "      <td>5.0</td>\n",
       "      <td>6.0</td>\n",
       "      <td>7.0</td>\n",
       "    </tr>\n",
       "  </tbody>\n",
       "</table>\n",
       "</div>"
      ],
      "text/plain": [
       "   vessel index  com1  com2  com3  com4  com5  com6  com7\n",
       "0             1     1     3     7   NaN   NaN   NaN   NaN\n",
       "1             2     1     3     7   NaN   NaN   NaN   NaN\n",
       "2             3     1     2     3   4.0   5.0   6.0   7.0"
      ]
     },
     "execution_count": 7,
     "metadata": {},
     "output_type": "execute_result"
    }
   ],
   "source": [
    "df_compatibility"
   ]
  },
  {
   "cell_type": "code",
   "execution_count": 8,
   "id": "3a163cd1",
   "metadata": {},
   "outputs": [
    {
     "data": {
      "text/html": [
       "<div>\n",
       "<style scoped>\n",
       "    .dataframe tbody tr th:only-of-type {\n",
       "        vertical-align: middle;\n",
       "    }\n",
       "\n",
       "    .dataframe tbody tr th {\n",
       "        vertical-align: top;\n",
       "    }\n",
       "\n",
       "    .dataframe thead th {\n",
       "        text-align: right;\n",
       "    }\n",
       "</style>\n",
       "<table border=\"1\" class=\"dataframe\">\n",
       "  <thead>\n",
       "    <tr style=\"text-align: right;\">\n",
       "      <th></th>\n",
       "      <th>vessel index</th>\n",
       "      <th>com1</th>\n",
       "      <th>com2</th>\n",
       "      <th>com3</th>\n",
       "      <th>com4</th>\n",
       "      <th>com5</th>\n",
       "      <th>com6</th>\n",
       "      <th>com7</th>\n",
       "    </tr>\n",
       "  </thead>\n",
       "  <tbody>\n",
       "    <tr>\n",
       "      <th>0</th>\n",
       "      <td>1</td>\n",
       "      <td>1</td>\n",
       "      <td>3</td>\n",
       "      <td>7</td>\n",
       "      <td>NaN</td>\n",
       "      <td>NaN</td>\n",
       "      <td>NaN</td>\n",
       "      <td>NaN</td>\n",
       "    </tr>\n",
       "  </tbody>\n",
       "</table>\n",
       "</div>"
      ],
      "text/plain": [
       "   vessel index  com1  com2  com3  com4  com5  com6  com7\n",
       "0             1     1     3     7   NaN   NaN   NaN   NaN"
      ]
     },
     "execution_count": 8,
     "metadata": {},
     "output_type": "execute_result"
    }
   ],
   "source": [
    "df_compatibility[df_compatibility['vessel index'] == 1]"
   ]
  },
  {
   "cell_type": "code",
   "execution_count": 9,
   "id": "eb08b571",
   "metadata": {},
   "outputs": [
    {
     "data": {
      "text/plain": [
       "[1.0, 3.0, 7.0, nan, nan, nan, nan]"
      ]
     },
     "execution_count": 9,
     "metadata": {},
     "output_type": "execute_result"
    }
   ],
   "source": [
    "df_compatibility.loc[1, :].values.tolist()[1:]"
   ]
  },
  {
   "cell_type": "code",
   "execution_count": 10,
   "id": "773020c6",
   "metadata": {},
   "outputs": [],
   "source": [
    "df_vessels = pd.read_csv(file, skiprows = 24, nrows = 3, encoding=\"latin1\", names = ['vessel index', 'home port', 'starting time', 'capacity'])"
   ]
  },
  {
   "cell_type": "code",
   "execution_count": 11,
   "id": "e59463f9",
   "metadata": {},
   "outputs": [
    {
     "data": {
      "text/html": [
       "<div>\n",
       "<style scoped>\n",
       "    .dataframe tbody tr th:only-of-type {\n",
       "        vertical-align: middle;\n",
       "    }\n",
       "\n",
       "    .dataframe tbody tr th {\n",
       "        vertical-align: top;\n",
       "    }\n",
       "\n",
       "    .dataframe thead th {\n",
       "        text-align: right;\n",
       "    }\n",
       "</style>\n",
       "<table border=\"1\" class=\"dataframe\">\n",
       "  <thead>\n",
       "    <tr style=\"text-align: right;\">\n",
       "      <th></th>\n",
       "      <th>vessel index</th>\n",
       "      <th>home port</th>\n",
       "      <th>starting time</th>\n",
       "      <th>capacity</th>\n",
       "    </tr>\n",
       "  </thead>\n",
       "  <tbody>\n",
       "    <tr>\n",
       "      <th>0</th>\n",
       "      <td>1</td>\n",
       "      <td>1</td>\n",
       "      <td>3</td>\n",
       "      <td>7</td>\n",
       "    </tr>\n",
       "    <tr>\n",
       "      <th>1</th>\n",
       "      <td>2</td>\n",
       "      <td>1</td>\n",
       "      <td>3</td>\n",
       "      <td>7</td>\n",
       "    </tr>\n",
       "    <tr>\n",
       "      <th>2</th>\n",
       "      <td>3</td>\n",
       "      <td>1</td>\n",
       "      <td>2</td>\n",
       "      <td>3</td>\n",
       "    </tr>\n",
       "  </tbody>\n",
       "</table>\n",
       "</div>"
      ],
      "text/plain": [
       "   vessel index  home port  starting time  capacity\n",
       "0             1          1              3         7\n",
       "1             2          1              3         7\n",
       "2             3          1              2         3"
      ]
     },
     "execution_count": 11,
     "metadata": {},
     "output_type": "execute_result"
    }
   ],
   "source": [
    "df_vessels"
   ]
  },
  {
   "cell_type": "code",
   "execution_count": 12,
   "id": "218ac8ce",
   "metadata": {},
   "outputs": [],
   "source": [
    "df_cargoes = pd.read_csv(file, skiprows = 28, nrows = number_of_cargoes, encoding=\"latin1\", names = ['cargo index', 'origin port', 'destination port', 'size', 'cost of not transporting', 'lb tw pu', 'ub tw pu', 'lb tw d', 'ub tw d'])"
   ]
  },
  {
   "cell_type": "code",
   "execution_count": 13,
   "id": "3cbaac12",
   "metadata": {},
   "outputs": [
    {
     "data": {
      "text/html": [
       "<div>\n",
       "<style scoped>\n",
       "    .dataframe tbody tr th:only-of-type {\n",
       "        vertical-align: middle;\n",
       "    }\n",
       "\n",
       "    .dataframe tbody tr th {\n",
       "        vertical-align: top;\n",
       "    }\n",
       "\n",
       "    .dataframe thead th {\n",
       "        text-align: right;\n",
       "    }\n",
       "</style>\n",
       "<table border=\"1\" class=\"dataframe\">\n",
       "  <thead>\n",
       "    <tr style=\"text-align: right;\">\n",
       "      <th></th>\n",
       "      <th>cargo index</th>\n",
       "      <th>origin port</th>\n",
       "      <th>destination port</th>\n",
       "      <th>size</th>\n",
       "      <th>cost of not transporting</th>\n",
       "      <th>lb tw pu</th>\n",
       "      <th>ub tw pu</th>\n",
       "      <th>lb tw d</th>\n",
       "      <th>ub tw d</th>\n",
       "    </tr>\n",
       "  </thead>\n",
       "  <tbody>\n",
       "    <tr>\n",
       "      <th>0</th>\n",
       "      <td>1</td>\n",
       "      <td>17</td>\n",
       "      <td>37</td>\n",
       "      <td>4601</td>\n",
       "      <td>790000</td>\n",
       "      <td>345</td>\n",
       "      <td>417</td>\n",
       "      <td>345</td>\n",
       "      <td>1006</td>\n",
       "    </tr>\n",
       "    <tr>\n",
       "      <th>1</th>\n",
       "      <td>2</td>\n",
       "      <td>33</td>\n",
       "      <td>36</td>\n",
       "      <td>13444</td>\n",
       "      <td>430790</td>\n",
       "      <td>96</td>\n",
       "      <td>168</td>\n",
       "      <td>96</td>\n",
       "      <td>529</td>\n",
       "    </tr>\n",
       "    <tr>\n",
       "      <th>2</th>\n",
       "      <td>3</td>\n",
       "      <td>17</td>\n",
       "      <td>27</td>\n",
       "      <td>6596</td>\n",
       "      <td>200354</td>\n",
       "      <td>715</td>\n",
       "      <td>787</td>\n",
       "      <td>715</td>\n",
       "      <td>1089</td>\n",
       "    </tr>\n",
       "    <tr>\n",
       "      <th>3</th>\n",
       "      <td>4</td>\n",
       "      <td>6</td>\n",
       "      <td>1</td>\n",
       "      <td>11052</td>\n",
       "      <td>275455</td>\n",
       "      <td>0</td>\n",
       "      <td>72</td>\n",
       "      <td>0</td>\n",
       "      <td>435</td>\n",
       "    </tr>\n",
       "    <tr>\n",
       "      <th>4</th>\n",
       "      <td>5</td>\n",
       "      <td>38</td>\n",
       "      <td>33</td>\n",
       "      <td>6643</td>\n",
       "      <td>642740</td>\n",
       "      <td>107</td>\n",
       "      <td>179</td>\n",
       "      <td>107</td>\n",
       "      <td>593</td>\n",
       "    </tr>\n",
       "    <tr>\n",
       "      <th>5</th>\n",
       "      <td>6</td>\n",
       "      <td>10</td>\n",
       "      <td>38</td>\n",
       "      <td>14139</td>\n",
       "      <td>587198</td>\n",
       "      <td>300</td>\n",
       "      <td>372</td>\n",
       "      <td>300</td>\n",
       "      <td>801</td>\n",
       "    </tr>\n",
       "    <tr>\n",
       "      <th>6</th>\n",
       "      <td>7</td>\n",
       "      <td>26</td>\n",
       "      <td>6</td>\n",
       "      <td>5310</td>\n",
       "      <td>359885</td>\n",
       "      <td>178</td>\n",
       "      <td>250</td>\n",
       "      <td>178</td>\n",
       "      <td>567</td>\n",
       "    </tr>\n",
       "  </tbody>\n",
       "</table>\n",
       "</div>"
      ],
      "text/plain": [
       "   cargo index  origin port  destination port   size  \\\n",
       "0            1           17                37   4601   \n",
       "1            2           33                36  13444   \n",
       "2            3           17                27   6596   \n",
       "3            4            6                 1  11052   \n",
       "4            5           38                33   6643   \n",
       "5            6           10                38  14139   \n",
       "6            7           26                 6   5310   \n",
       "\n",
       "   cost of not transporting  lb tw pu  ub tw pu  lb tw d  ub tw d  \n",
       "0                    790000       345       417      345     1006  \n",
       "1                    430790        96       168       96      529  \n",
       "2                    200354       715       787      715     1089  \n",
       "3                    275455         0        72        0      435  \n",
       "4                    642740       107       179      107      593  \n",
       "5                    587198       300       372      300      801  \n",
       "6                    359885       178       250      178      567  "
      ]
     },
     "execution_count": 13,
     "metadata": {},
     "output_type": "execute_result"
    }
   ],
   "source": [
    "df_cargoes"
   ]
  },
  {
   "cell_type": "code",
   "execution_count": 14,
   "id": "62d629a8",
   "metadata": {},
   "outputs": [],
   "source": [
    "df_cost = pd.read_csv(file, skiprows = 36, nrows = 4563 , encoding=\"latin1\", names = ['vessel', 'origin port', 'destination port', 'travel time (in hours)', 'travel cost (in Ä)'])"
   ]
  },
  {
   "cell_type": "code",
   "execution_count": 15,
   "id": "081e46d1",
   "metadata": {},
   "outputs": [
    {
     "data": {
      "text/html": [
       "<div>\n",
       "<style scoped>\n",
       "    .dataframe tbody tr th:only-of-type {\n",
       "        vertical-align: middle;\n",
       "    }\n",
       "\n",
       "    .dataframe tbody tr th {\n",
       "        vertical-align: top;\n",
       "    }\n",
       "\n",
       "    .dataframe thead th {\n",
       "        text-align: right;\n",
       "    }\n",
       "</style>\n",
       "<table border=\"1\" class=\"dataframe\">\n",
       "  <thead>\n",
       "    <tr style=\"text-align: right;\">\n",
       "      <th></th>\n",
       "      <th>vessel</th>\n",
       "      <th>origin port</th>\n",
       "      <th>destination port</th>\n",
       "      <th>travel time (in hours)</th>\n",
       "      <th>travel cost (in Ä)</th>\n",
       "    </tr>\n",
       "  </thead>\n",
       "  <tbody>\n",
       "    <tr>\n",
       "      <th>0</th>\n",
       "      <td>1</td>\n",
       "      <td>1</td>\n",
       "      <td>1</td>\n",
       "      <td>0</td>\n",
       "      <td>0</td>\n",
       "    </tr>\n",
       "    <tr>\n",
       "      <th>1</th>\n",
       "      <td>2</td>\n",
       "      <td>1</td>\n",
       "      <td>1</td>\n",
       "      <td>0</td>\n",
       "      <td>0</td>\n",
       "    </tr>\n",
       "    <tr>\n",
       "      <th>2</th>\n",
       "      <td>3</td>\n",
       "      <td>1</td>\n",
       "      <td>1</td>\n",
       "      <td>0</td>\n",
       "      <td>0</td>\n",
       "    </tr>\n",
       "    <tr>\n",
       "      <th>3</th>\n",
       "      <td>1</td>\n",
       "      <td>1</td>\n",
       "      <td>2</td>\n",
       "      <td>71</td>\n",
       "      <td>48031</td>\n",
       "    </tr>\n",
       "    <tr>\n",
       "      <th>4</th>\n",
       "      <td>2</td>\n",
       "      <td>1</td>\n",
       "      <td>2</td>\n",
       "      <td>71</td>\n",
       "      <td>48031</td>\n",
       "    </tr>\n",
       "    <tr>\n",
       "      <th>...</th>\n",
       "      <td>...</td>\n",
       "      <td>...</td>\n",
       "      <td>...</td>\n",
       "      <td>...</td>\n",
       "      <td>...</td>\n",
       "    </tr>\n",
       "    <tr>\n",
       "      <th>4558</th>\n",
       "      <td>2</td>\n",
       "      <td>39</td>\n",
       "      <td>38</td>\n",
       "      <td>75</td>\n",
       "      <td>50672</td>\n",
       "    </tr>\n",
       "    <tr>\n",
       "      <th>4559</th>\n",
       "      <td>3</td>\n",
       "      <td>39</td>\n",
       "      <td>38</td>\n",
       "      <td>70</td>\n",
       "      <td>41008</td>\n",
       "    </tr>\n",
       "    <tr>\n",
       "      <th>4560</th>\n",
       "      <td>1</td>\n",
       "      <td>39</td>\n",
       "      <td>39</td>\n",
       "      <td>0</td>\n",
       "      <td>0</td>\n",
       "    </tr>\n",
       "    <tr>\n",
       "      <th>4561</th>\n",
       "      <td>2</td>\n",
       "      <td>39</td>\n",
       "      <td>39</td>\n",
       "      <td>0</td>\n",
       "      <td>0</td>\n",
       "    </tr>\n",
       "    <tr>\n",
       "      <th>4562</th>\n",
       "      <td>3</td>\n",
       "      <td>39</td>\n",
       "      <td>39</td>\n",
       "      <td>0</td>\n",
       "      <td>0</td>\n",
       "    </tr>\n",
       "  </tbody>\n",
       "</table>\n",
       "<p>4563 rows × 5 columns</p>\n",
       "</div>"
      ],
      "text/plain": [
       "      vessel  origin port  destination port  travel time (in hours)  \\\n",
       "0          1            1                 1                       0   \n",
       "1          2            1                 1                       0   \n",
       "2          3            1                 1                       0   \n",
       "3          1            1                 2                      71   \n",
       "4          2            1                 2                      71   \n",
       "...      ...          ...               ...                     ...   \n",
       "4558       2           39                38                      75   \n",
       "4559       3           39                38                      70   \n",
       "4560       1           39                39                       0   \n",
       "4561       2           39                39                       0   \n",
       "4562       3           39                39                       0   \n",
       "\n",
       "      travel cost (in Ä)  \n",
       "0                      0  \n",
       "1                      0  \n",
       "2                      0  \n",
       "3                  48031  \n",
       "4                  48031  \n",
       "...                  ...  \n",
       "4558               50672  \n",
       "4559               41008  \n",
       "4560                   0  \n",
       "4561                   0  \n",
       "4562                   0  \n",
       "\n",
       "[4563 rows x 5 columns]"
      ]
     },
     "execution_count": 15,
     "metadata": {},
     "output_type": "execute_result"
    }
   ],
   "source": [
    "df_cost"
   ]
  },
  {
   "cell_type": "code",
   "execution_count": 16,
   "id": "d497ecf8",
   "metadata": {},
   "outputs": [
    {
     "name": "stdout",
     "output_type": "stream",
     "text": [
      "lies 4622\n"
     ]
    }
   ],
   "source": [
    "with open(r\"SHORTSEA_MUN_C7_V3_HE_1.txt\",'r', encoding = 'latin1') as fp:\n",
    "    for count, line in enumerate(fp):\n",
    "        pass\n",
    "print('lies', count +1)"
   ]
  },
  {
   "cell_type": "code",
   "execution_count": 17,
   "id": "ce535a6b",
   "metadata": {},
   "outputs": [],
   "source": [
    "df_port_cost = pd.read_csv(file, skiprows = 4600, nrows = 21 , encoding=\"latin1\", names = ['vessel', 'cargo', 'origin port time (in hours)', 'origin port costs (in Ä)', 'destination port time (in hours)', 'destination port costs (in Ä)'])\n"
   ]
  },
  {
   "cell_type": "code",
   "execution_count": 18,
   "id": "601b5391",
   "metadata": {},
   "outputs": [
    {
     "data": {
      "text/html": [
       "<div>\n",
       "<style scoped>\n",
       "    .dataframe tbody tr th:only-of-type {\n",
       "        vertical-align: middle;\n",
       "    }\n",
       "\n",
       "    .dataframe tbody tr th {\n",
       "        vertical-align: top;\n",
       "    }\n",
       "\n",
       "    .dataframe thead th {\n",
       "        text-align: right;\n",
       "    }\n",
       "</style>\n",
       "<table border=\"1\" class=\"dataframe\">\n",
       "  <thead>\n",
       "    <tr style=\"text-align: right;\">\n",
       "      <th></th>\n",
       "      <th>vessel</th>\n",
       "      <th>cargo</th>\n",
       "      <th>origin port time (in hours)</th>\n",
       "      <th>origin port costs (in Ä)</th>\n",
       "      <th>destination port time (in hours)</th>\n",
       "      <th>destination port costs (in Ä)</th>\n",
       "    </tr>\n",
       "  </thead>\n",
       "  <tbody>\n",
       "    <tr>\n",
       "      <th>0</th>\n",
       "      <td>1</td>\n",
       "      <td>1</td>\n",
       "      <td>13</td>\n",
       "      <td>23768</td>\n",
       "      <td>16</td>\n",
       "      <td>29040</td>\n",
       "    </tr>\n",
       "    <tr>\n",
       "      <th>1</th>\n",
       "      <td>1</td>\n",
       "      <td>2</td>\n",
       "      <td>-1</td>\n",
       "      <td>-1</td>\n",
       "      <td>-1</td>\n",
       "      <td>-1</td>\n",
       "    </tr>\n",
       "    <tr>\n",
       "      <th>2</th>\n",
       "      <td>1</td>\n",
       "      <td>3</td>\n",
       "      <td>17</td>\n",
       "      <td>23768</td>\n",
       "      <td>19</td>\n",
       "      <td>28042</td>\n",
       "    </tr>\n",
       "    <tr>\n",
       "      <th>3</th>\n",
       "      <td>1</td>\n",
       "      <td>4</td>\n",
       "      <td>-1</td>\n",
       "      <td>-1</td>\n",
       "      <td>-1</td>\n",
       "      <td>-1</td>\n",
       "    </tr>\n",
       "    <tr>\n",
       "      <th>4</th>\n",
       "      <td>1</td>\n",
       "      <td>5</td>\n",
       "      <td>-1</td>\n",
       "      <td>-1</td>\n",
       "      <td>-1</td>\n",
       "      <td>-1</td>\n",
       "    </tr>\n",
       "    <tr>\n",
       "      <th>5</th>\n",
       "      <td>1</td>\n",
       "      <td>6</td>\n",
       "      <td>-1</td>\n",
       "      <td>-1</td>\n",
       "      <td>-1</td>\n",
       "      <td>-1</td>\n",
       "    </tr>\n",
       "    <tr>\n",
       "      <th>6</th>\n",
       "      <td>1</td>\n",
       "      <td>7</td>\n",
       "      <td>18</td>\n",
       "      <td>30200</td>\n",
       "      <td>18</td>\n",
       "      <td>29828</td>\n",
       "    </tr>\n",
       "    <tr>\n",
       "      <th>7</th>\n",
       "      <td>2</td>\n",
       "      <td>1</td>\n",
       "      <td>13</td>\n",
       "      <td>23768</td>\n",
       "      <td>16</td>\n",
       "      <td>29040</td>\n",
       "    </tr>\n",
       "    <tr>\n",
       "      <th>8</th>\n",
       "      <td>2</td>\n",
       "      <td>2</td>\n",
       "      <td>-1</td>\n",
       "      <td>-1</td>\n",
       "      <td>-1</td>\n",
       "      <td>-1</td>\n",
       "    </tr>\n",
       "    <tr>\n",
       "      <th>9</th>\n",
       "      <td>2</td>\n",
       "      <td>3</td>\n",
       "      <td>17</td>\n",
       "      <td>23768</td>\n",
       "      <td>19</td>\n",
       "      <td>28042</td>\n",
       "    </tr>\n",
       "    <tr>\n",
       "      <th>10</th>\n",
       "      <td>2</td>\n",
       "      <td>4</td>\n",
       "      <td>-1</td>\n",
       "      <td>-1</td>\n",
       "      <td>-1</td>\n",
       "      <td>-1</td>\n",
       "    </tr>\n",
       "    <tr>\n",
       "      <th>11</th>\n",
       "      <td>2</td>\n",
       "      <td>5</td>\n",
       "      <td>-1</td>\n",
       "      <td>-1</td>\n",
       "      <td>-1</td>\n",
       "      <td>-1</td>\n",
       "    </tr>\n",
       "    <tr>\n",
       "      <th>12</th>\n",
       "      <td>2</td>\n",
       "      <td>6</td>\n",
       "      <td>-1</td>\n",
       "      <td>-1</td>\n",
       "      <td>-1</td>\n",
       "      <td>-1</td>\n",
       "    </tr>\n",
       "    <tr>\n",
       "      <th>13</th>\n",
       "      <td>2</td>\n",
       "      <td>7</td>\n",
       "      <td>18</td>\n",
       "      <td>30200</td>\n",
       "      <td>18</td>\n",
       "      <td>29828</td>\n",
       "    </tr>\n",
       "    <tr>\n",
       "      <th>14</th>\n",
       "      <td>3</td>\n",
       "      <td>1</td>\n",
       "      <td>13</td>\n",
       "      <td>25418</td>\n",
       "      <td>16</td>\n",
       "      <td>30690</td>\n",
       "    </tr>\n",
       "    <tr>\n",
       "      <th>15</th>\n",
       "      <td>3</td>\n",
       "      <td>2</td>\n",
       "      <td>30</td>\n",
       "      <td>25440</td>\n",
       "      <td>35</td>\n",
       "      <td>32758</td>\n",
       "    </tr>\n",
       "    <tr>\n",
       "      <th>16</th>\n",
       "      <td>3</td>\n",
       "      <td>3</td>\n",
       "      <td>17</td>\n",
       "      <td>25418</td>\n",
       "      <td>20</td>\n",
       "      <td>29692</td>\n",
       "    </tr>\n",
       "    <tr>\n",
       "      <th>17</th>\n",
       "      <td>3</td>\n",
       "      <td>4</td>\n",
       "      <td>30</td>\n",
       "      <td>31478</td>\n",
       "      <td>31</td>\n",
       "      <td>33153</td>\n",
       "    </tr>\n",
       "    <tr>\n",
       "      <th>18</th>\n",
       "      <td>3</td>\n",
       "      <td>5</td>\n",
       "      <td>22</td>\n",
       "      <td>33227</td>\n",
       "      <td>17</td>\n",
       "      <td>25440</td>\n",
       "    </tr>\n",
       "    <tr>\n",
       "      <th>19</th>\n",
       "      <td>3</td>\n",
       "      <td>6</td>\n",
       "      <td>31</td>\n",
       "      <td>23893</td>\n",
       "      <td>37</td>\n",
       "      <td>33227</td>\n",
       "    </tr>\n",
       "    <tr>\n",
       "      <th>20</th>\n",
       "      <td>3</td>\n",
       "      <td>7</td>\n",
       "      <td>18</td>\n",
       "      <td>31850</td>\n",
       "      <td>18</td>\n",
       "      <td>31478</td>\n",
       "    </tr>\n",
       "  </tbody>\n",
       "</table>\n",
       "</div>"
      ],
      "text/plain": [
       "    vessel  cargo  origin port time (in hours)  origin port costs (in Ä)  \\\n",
       "0        1      1                           13                     23768   \n",
       "1        1      2                           -1                        -1   \n",
       "2        1      3                           17                     23768   \n",
       "3        1      4                           -1                        -1   \n",
       "4        1      5                           -1                        -1   \n",
       "5        1      6                           -1                        -1   \n",
       "6        1      7                           18                     30200   \n",
       "7        2      1                           13                     23768   \n",
       "8        2      2                           -1                        -1   \n",
       "9        2      3                           17                     23768   \n",
       "10       2      4                           -1                        -1   \n",
       "11       2      5                           -1                        -1   \n",
       "12       2      6                           -1                        -1   \n",
       "13       2      7                           18                     30200   \n",
       "14       3      1                           13                     25418   \n",
       "15       3      2                           30                     25440   \n",
       "16       3      3                           17                     25418   \n",
       "17       3      4                           30                     31478   \n",
       "18       3      5                           22                     33227   \n",
       "19       3      6                           31                     23893   \n",
       "20       3      7                           18                     31850   \n",
       "\n",
       "    destination port time (in hours)  destination port costs (in Ä)  \n",
       "0                                 16                          29040  \n",
       "1                                 -1                             -1  \n",
       "2                                 19                          28042  \n",
       "3                                 -1                             -1  \n",
       "4                                 -1                             -1  \n",
       "5                                 -1                             -1  \n",
       "6                                 18                          29828  \n",
       "7                                 16                          29040  \n",
       "8                                 -1                             -1  \n",
       "9                                 19                          28042  \n",
       "10                                -1                             -1  \n",
       "11                                -1                             -1  \n",
       "12                                -1                             -1  \n",
       "13                                18                          29828  \n",
       "14                                16                          30690  \n",
       "15                                35                          32758  \n",
       "16                                20                          29692  \n",
       "17                                31                          33153  \n",
       "18                                17                          25440  \n",
       "19                                37                          33227  \n",
       "20                                18                          31478  "
      ]
     },
     "execution_count": 18,
     "metadata": {},
     "output_type": "execute_result"
    }
   ],
   "source": [
    "df_port_cost"
   ]
  },
  {
   "cell_type": "code",
   "execution_count": 19,
   "id": "e629a789",
   "metadata": {},
   "outputs": [],
   "source": [
    "input_ = [0,7,7,2,2,0,0,4,1,2,5,3,6,4,1,2,5,3,6]"
   ]
  },
  {
   "cell_type": "code",
   "execution_count": 20,
   "id": "cc9a3407",
   "metadata": {},
   "outputs": [
    {
     "name": "stdout",
     "output_type": "stream",
     "text": [
      "[[0], [7, 7, 2, 2, 0], [0], [4, 1, 2, 5, 3, 6, 4, 1, 2, 5, 3, 6]]\n"
     ]
    }
   ],
   "source": [
    "indices = [i + 1 for i, x in enumerate(input_) if x == 0]\n",
    "\n",
    "ret = [input_[i:j] for i, j in zip([0] + indices, indices + [None])]\n",
    "\n",
    "print(ret) "
   ]
  },
  {
   "cell_type": "code",
   "execution_count": 21,
   "id": "fc788655",
   "metadata": {},
   "outputs": [],
   "source": [
    "for i in ret:\n",
    "    if i[-1] == 0:\n",
    "        del i[-1]"
   ]
  },
  {
   "cell_type": "code",
   "execution_count": 22,
   "id": "8d37c6c1",
   "metadata": {},
   "outputs": [
    {
     "data": {
      "text/plain": [
       "[[], [7, 7, 2, 2], [], [4, 1, 2, 5, 3, 6, 4, 1, 2, 5, 3, 6]]"
      ]
     },
     "execution_count": 22,
     "metadata": {},
     "output_type": "execute_result"
    }
   ],
   "source": [
    "ret"
   ]
  },
  {
   "cell_type": "markdown",
   "id": "fdaa128b",
   "metadata": {},
   "source": [
    "# Compatibility"
   ]
  },
  {
   "cell_type": "code",
   "execution_count": 23,
   "id": "9c7a3b89",
   "metadata": {},
   "outputs": [],
   "source": [
    "v = []\n",
    "for i in range(0, number_of_vessels):\n",
    "    v.append(df_compatibility.loc[i, :].values.tolist()[1:])"
   ]
  },
  {
   "cell_type": "code",
   "execution_count": 24,
   "id": "95ceba49",
   "metadata": {},
   "outputs": [
    {
     "name": "stdout",
     "output_type": "stream",
     "text": [
      "vessel is not compatible\n",
      "vessel is not compatible\n"
     ]
    }
   ],
   "source": [
    "for i in range(0, len(ret)-1):\n",
    "    for j in range(0, len(ret[i])):\n",
    "        if ret[i][j] not in v[i]:\n",
    "            print('vessel is not compatible')\n",
    "            "
   ]
  },
  {
   "cell_type": "code",
   "execution_count": 25,
   "id": "2c3aebe1",
   "metadata": {},
   "outputs": [
    {
     "name": "stdout",
     "output_type": "stream",
     "text": [
      "[[], [5310, 0, 13444, 0], []]\n",
      "no\n"
     ]
    }
   ],
   "source": [
    "seen = []\n",
    "a = []\n",
    "b = []\n",
    "increase = []\n",
    "total = []\n",
    "\n",
    "\n",
    "for i in range(0, number_of_vessels):\n",
    "    sum_ = 0\n",
    "    for j in range(0, len(ret[i])):\n",
    "\n",
    "        if ret[i] == []:\n",
    "            size.append(df_cost['travel cost (in Ä)'][(df_cost['vessel'] == 0) & (df_cost['origin port'] == 0) & (df_cost['destination port'] == 0)])\n",
    "       # i = i+1\n",
    "        else:\n",
    "            if ret[i][j] not in seen:\n",
    "                a = df_cargoes['size'][(df_cargoes['cargo index'] == ret[i][j])]\n",
    "                a = pd.DataFrame(a)\n",
    "                a = a.loc[:, :].values.tolist()\n",
    "                a = a[0][0]\n",
    "                sum_ = sum_ + a\n",
    "                total.append(sum_)\n",
    "                seen.append(ret[i][j])\n",
    "            else:\n",
    "                b = - (df_cargoes['size'][(df_cargoes['cargo index'] == ret[i][j])])\n",
    "                b = pd.DataFrame(b)\n",
    "                b = b.loc[:, :].values.tolist()\n",
    "                b = b[0][0]\n",
    "                sum_ = sum_ + b\n",
    "                total.append(sum_)\n",
    "\n",
    "\n",
    "myList = total\n",
    "#myNum = (2,4,3) \n",
    "newList = [] \n",
    "\n",
    "myNum = []\n",
    "for i in range(0, number_of_vessels):\n",
    "    myNum.append(len(ret[i]))\n",
    "\n",
    "\n",
    "for i in myNum:\n",
    "    newList.append(list(myList[:i]))\n",
    "    [ myList.pop(myList.index(x)) for x in myList[:i] ]\n",
    "print(newList)\n",
    "\n",
    "size_vessel = [13200, 13200, 16500]\n",
    "for i in range(0, number_of_vessels):\n",
    "    if newList[i] == []:\n",
    "        continue\n",
    "    else:\n",
    "        for j in range(0, len(newList[i])):\n",
    "            if newList[i][j] > size_vessel[i]:\n",
    "                print('no')\n",
    "    \n",
    "    \n",
    "    \n",
    "    "
   ]
  },
  {
   "cell_type": "code",
   "execution_count": 26,
   "id": "3cc493a9",
   "metadata": {},
   "outputs": [],
   "source": [
    "time_home = []\n",
    "for i in range(0, len(ret)-1):\n",
    "    if ret[i] == []:\n",
    "        time_home.append([])\n",
    "     \n",
    "       # i = i+1\n",
    "    else:\n",
    "        \n",
    "        k = df_home_port['home port'][df_home_port['vessel index'] == i+1]\n",
    "        m = df_cargoes['origin port'][(df_cargoes['cargo index'] == ret[i][0])]\n",
    "            \n",
    "        k = pd.DataFrame(k)\n",
    "        k = k.loc[: , :].values.tolist()\n",
    "        k = k[0][0]\n",
    "            \n",
    "        m = pd.DataFrame(m)\n",
    "        m = m.loc[: , :].values.tolist()\n",
    "        m = m[0][0]\n",
    "\n",
    "        time_home.append(df_cost['travel time (in hours)'][(df_cost['vessel'] ==i+1) & (df_cost['origin port'] == k) & (df_cost['destination port'] == m)])\n",
    "       "
   ]
  },
  {
   "cell_type": "code",
   "execution_count": 27,
   "id": "a6dc4fbf",
   "metadata": {},
   "outputs": [
    {
     "data": {
      "text/plain": [
       "[[],\n",
       " 1480    38\n",
       " Name: travel time (in hours), dtype: int64,\n",
       " []]"
      ]
     },
     "execution_count": 27,
     "metadata": {},
     "output_type": "execute_result"
    }
   ],
   "source": [
    "time_home"
   ]
  },
  {
   "cell_type": "code",
   "execution_count": 28,
   "id": "7fc029bc",
   "metadata": {},
   "outputs": [
    {
     "data": {
      "text/html": [
       "<div>\n",
       "<style scoped>\n",
       "    .dataframe tbody tr th:only-of-type {\n",
       "        vertical-align: middle;\n",
       "    }\n",
       "\n",
       "    .dataframe tbody tr th {\n",
       "        vertical-align: top;\n",
       "    }\n",
       "\n",
       "    .dataframe thead th {\n",
       "        text-align: right;\n",
       "    }\n",
       "</style>\n",
       "<table border=\"1\" class=\"dataframe\">\n",
       "  <thead>\n",
       "    <tr style=\"text-align: right;\">\n",
       "      <th></th>\n",
       "      <th>0</th>\n",
       "    </tr>\n",
       "  </thead>\n",
       "  <tbody>\n",
       "    <tr>\n",
       "      <th>0</th>\n",
       "      <td>NaN</td>\n",
       "    </tr>\n",
       "    <tr>\n",
       "      <th>1</th>\n",
       "      <td>38.0</td>\n",
       "    </tr>\n",
       "    <tr>\n",
       "      <th>2</th>\n",
       "      <td>NaN</td>\n",
       "    </tr>\n",
       "  </tbody>\n",
       "</table>\n",
       "</div>"
      ],
      "text/plain": [
       "      0\n",
       "0   NaN\n",
       "1  38.0\n",
       "2   NaN"
      ]
     },
     "execution_count": 28,
     "metadata": {},
     "output_type": "execute_result"
    }
   ],
   "source": [
    "time_home\n",
    "time_h_ = []\n",
    "\n",
    "time_h_ = pd.DataFrame(time_home)\n",
    "#time_h_ = time_h_.loc[: , :].values.tolist()\n",
    "time_h_\n",
    "\n"
   ]
  },
  {
   "cell_type": "code",
   "execution_count": 29,
   "id": "9d9112e1",
   "metadata": {},
   "outputs": [
    {
     "data": {
      "text/plain": [
       "[[nan], [38.0], [nan]]"
      ]
     },
     "execution_count": 29,
     "metadata": {},
     "output_type": "execute_result"
    }
   ],
   "source": [
    "import numpy as np\n",
    "time_h_.replace(np.nan, '', regex = True)\n",
    "time_h_ = time_h_.loc[: , :].values.tolist()\n",
    "time_h_"
   ]
  },
  {
   "cell_type": "code",
   "execution_count": 30,
   "id": "b0a17394",
   "metadata": {},
   "outputs": [],
   "source": [
    "import math\n",
    "my_l = []\n",
    "for x in time_h_:\n",
    "    for i in x:\n",
    "        if math.isnan(i):\n",
    "            my_l.append([])\n",
    "        else:\n",
    "            my_l.append(i)"
   ]
  },
  {
   "cell_type": "code",
   "execution_count": 31,
   "id": "e9b862b4",
   "metadata": {},
   "outputs": [
    {
     "data": {
      "text/plain": [
       "[[], 38.0, []]"
      ]
     },
     "execution_count": 31,
     "metadata": {},
     "output_type": "execute_result"
    }
   ],
   "source": [
    "my_l"
   ]
  },
  {
   "cell_type": "code",
   "execution_count": 37,
   "id": "09f9e4bc",
   "metadata": {},
   "outputs": [
    {
     "data": {
      "text/plain": [
       "[[], 106, []]"
      ]
     },
     "execution_count": 37,
     "metadata": {},
     "output_type": "execute_result"
    }
   ],
   "source": [
    "r"
   ]
  },
  {
   "cell_type": "code",
   "execution_count": 38,
   "id": "ffbef5cf",
   "metadata": {},
   "outputs": [
    {
     "data": {
      "text/plain": [
       "[[], [11, 97, 66], []]"
      ]
     },
     "execution_count": 38,
     "metadata": {},
     "output_type": "execute_result"
    }
   ],
   "source": [
    "newV"
   ]
  },
  {
   "cell_type": "code",
   "execution_count": 39,
   "id": "5a381a42",
   "metadata": {},
   "outputs": [
    {
     "data": {
      "text/plain": [
       "[[], [155.0, 252.0, 318.0], []]"
      ]
     },
     "execution_count": 39,
     "metadata": {},
     "output_type": "execute_result"
    }
   ],
   "source": [
    "newsum"
   ]
  },
  {
   "cell_type": "code",
   "execution_count": 40,
   "id": "41800351",
   "metadata": {},
   "outputs": [
    {
     "data": {
      "text/plain": [
       "[[], [18, 18, -1, -1], []]"
      ]
     },
     "execution_count": 40,
     "metadata": {},
     "output_type": "execute_result"
    }
   ],
   "source": [
    "newsh"
   ]
  },
  {
   "cell_type": "code",
   "execution_count": null,
   "id": "459d149d",
   "metadata": {},
   "outputs": [],
   "source": []
  },
  {
   "cell_type": "code",
   "execution_count": 70,
   "id": "14e15780",
   "metadata": {},
   "outputs": [
    {
     "name": "stdout",
     "output_type": "stream",
     "text": [
      "[[], [11, 97, 66], []]\n",
      "[[], [18, 18, -1, -1], []]\n",
      "[[], [250, 567, 168, 529], []]\n",
      "[[], [155.0, 252.0, 318.0], []]\n"
     ]
    }
   ],
   "source": [
    "seen = []   \n",
    "v = []\n",
    "r = []\n",
    "\n",
    "\n",
    "\n",
    "for i in range(0, number_of_vessels):\n",
    "    if ret[i] == []:\n",
    "        r.append([])\n",
    "       # i = i+1\n",
    "    else:\n",
    "        \n",
    "        k = df_home_port['home port'][df_home_port['vessel index'] == i+1]\n",
    "        n = df_home_port['starting time'][df_home_port['vessel index'] == i+1]\n",
    "        m = df_cargoes['origin port'][(df_cargoes['cargo index'] == ret[i][0])]\n",
    "            \n",
    "        k = pd.DataFrame(k)\n",
    "        k = k.loc[: , :].values.tolist()\n",
    "        k = k[0][0]\n",
    "            \n",
    "        m = pd.DataFrame(m)\n",
    "        m = m.loc[: , :].values.tolist()\n",
    "        m = m[0][0]\n",
    "\n",
    "        n = pd.DataFrame(n)\n",
    "        n = n.loc[: , :].values.tolist()\n",
    "        n = n[0][0]\n",
    "        \n",
    "        \n",
    "        \n",
    "        r.append(n)\n",
    "\n",
    "\n",
    "        \n",
    "        for j in range(0, len(ret[i])):\n",
    "            if j+1 >= len(ret[i]):\n",
    "                continue\n",
    "            elif ret[i] == []:\n",
    "                v.append(df_cost['travel cost (in Ä)'][(df_cost['vessel'] == 0) & (df_cost['origin port'] == 0) & (df_cost['destination port'] == 0)])\n",
    "    \n",
    "                                                                                                             \n",
    "            else:\n",
    "            #vessel = i+1\n",
    "            #origin_port = ret[i][j]\n",
    "            #dest_port = ret[i][j+1]\n",
    "                g = df_cargoes['origin port'][df_cargoes['cargo index'] == ret[i][j]]\n",
    "                f = df_cargoes['destination port'][df_cargoes['cargo index'] == ret[i][j+1]]\n",
    "          \n",
    "        \n",
    "                \n",
    "                g = pd.DataFrame(g)\n",
    "                g = g.loc[: , :].values.tolist()\n",
    "                g = g[0][0]\n",
    "            \n",
    "                f = pd.DataFrame(f)\n",
    "                f = f.loc[: , :].values.tolist()\n",
    "                f = f[0][0]\n",
    "                if ret[i][j] not in seen:\n",
    "                \n",
    "                    l = df_cost['travel time (in hours)'][(df_cost['vessel'] ==i+1) & (df_cost['origin port'] == g) & (df_cost['destination port'] == f)]\n",
    "                    l = pd.DataFrame(l)\n",
    "                    l = l.loc[: , :].values.tolist()\n",
    "                    l = l[0][0]\n",
    "                \n",
    "                    v.append(l)\n",
    "                \n",
    "                \n",
    "\n",
    "                #list_.append(df_cost['travel cost (in Ä)'][(df_cost['vessel'] ==i+1) & (df_cost['origin port'] == g) & (df_cost['destination port'] == f)])\n",
    "                    seen.append(ret[i][j])\n",
    "                else:\n",
    "                \n",
    "                    g = df_cargoes['origin port'][df_cargoes['cargo index'] == ret[i][j+1]]\n",
    "                    f = df_cargoes['destination port'][df_cargoes['cargo index'] == ret[i][j]]\n",
    "\n",
    "             \n",
    "                    g = pd.DataFrame(g)\n",
    "                    g = g.loc[: , :].values.tolist()\n",
    "                    g = g[0][0]\n",
    "            \n",
    "                    f = pd.DataFrame(f)\n",
    "                    f = f.loc[: , :].values.tolist()\n",
    "                    f = f[0][0]\n",
    "                    \n",
    "                    l = df_cost['travel time (in hours)'][(df_cost['vessel'] ==i+1) & (df_cost['origin port'] == g) & (df_cost['destination port'] == f)]\n",
    "                    l = pd.DataFrame(l)\n",
    "                    l = l.loc[: , :].values.tolist()\n",
    "                    l = l[0][0]\n",
    "                    v.append(l)                    \n",
    "                    \n",
    "                    \n",
    "                    \n",
    "myList = v\n",
    "#myNum = (2,4,3) \n",
    "newV = [] \n",
    "\n",
    "myNum = []\n",
    "\n",
    "for i in range(0, number_of_vessels):\n",
    "    if ret[i] == []:\n",
    "        myNum.append(0)\n",
    "    else:\n",
    "        myNum.append(len(ret[i])-1)\n",
    "\n",
    "\n",
    "for i in myNum:\n",
    "    newV.append(list(myList[:i]))\n",
    "    [ myList.pop(myList.index(x)) for x in myList[:i] ]\n",
    "print(newV)\n",
    "\n",
    "sh = []\n",
    "for i in range(0, number_of_vessels):\n",
    "    for j in range(0, len(ret[i])):\n",
    "        if ret[i] == []:\n",
    "            sh.append([])\n",
    "        elif ret[i][j] not in seen:\n",
    "            s = df_port_cost['origin port time (in hours)'][(df_port_cost['vessel'] ==i+1) & (df_port_cost['cargo'] ==ret[i][j])]\n",
    "            s = pd.DataFrame(s)\n",
    "            s = s.loc[: , :].values.tolist()\n",
    "            s = s[0][0]\n",
    "            sh.append(s)\n",
    "            seen.append(ret[i][j])\n",
    "        else:\n",
    "            s = df_port_cost['destination port time (in hours)'][(df_port_cost['vessel'] ==i+1) & (df_port_cost['cargo'] ==ret[i][j])]\n",
    "            s = pd.DataFrame(s)\n",
    "            s = s.loc[: , :].values.tolist()\n",
    "            s = s[0][0]\n",
    "            sh.append(s)\n",
    "            \n",
    "myList = sh\n",
    "#myNum = (2,4,3) \n",
    "newsh = [] \n",
    "\n",
    "myNum = []\n",
    "\n",
    "for i in range(0, number_of_vessels):\n",
    "    if ret[i] == []:\n",
    "        myNum.append(0)\n",
    "    else:\n",
    "        myNum.append(len(ret[i]))\n",
    "\n",
    "\n",
    "for i in myNum:\n",
    "    newsh.append(list(myList[:i]))\n",
    "    [ myList.pop(myList.index(x)) for x in myList[:i] ]\n",
    "print(newsh)\n",
    "\n",
    "\n",
    "seen = []\n",
    "orig_destin = []\n",
    "for i in range(0, number_of_vessels):\n",
    "    for j in range(0, len(ret[i])):\n",
    "        if ret[i][j] not in seen:\n",
    "            orig_dest = df_cargoes['ub tw pu'][df_cargoes['cargo index'] == ret[i][j]]\n",
    "            orig_dest = pd.DataFrame(orig_dest)\n",
    "            orig_dest = orig_dest.loc[: , :].values.tolist()\n",
    "            orig_dest = orig_dest[0][0]\n",
    "            orig_destin.append(orig_dest)\n",
    "            seen.append(ret[i][j])\n",
    "        else:\n",
    "            orig_dest = df_cargoes['ub tw d'][df_cargoes['cargo index'] == ret[i][j]]\n",
    "            orig_dest = pd.DataFrame(orig_dest)\n",
    "            orig_dest = orig_dest.loc[: , :].values.tolist()\n",
    "            orig_dest = orig_dest[0][0]\n",
    "            orig_destin.append(orig_dest)\n",
    "\n",
    "            \n",
    "myList = orig_destin\n",
    "#myNum = (2,4,3) \n",
    "newordest = [] \n",
    "\n",
    "myNum = []\n",
    "\n",
    "for i in range(0, number_of_vessels):\n",
    "    if ret[i] == []:\n",
    "        myNum.append(0)\n",
    "    else:\n",
    "        myNum.append(len(ret[i]))\n",
    "\n",
    "\n",
    "for i in myNum:\n",
    "    newordest.append(list(myList[:i]))\n",
    "    [ myList.pop(myList.index(x)) for x in myList[:i] ]\n",
    "print(newordest)\n",
    "\n",
    "\n",
    "            \n",
    "            \n",
    "\n",
    "summations = []\n",
    "for i in range(0, number_of_vessels):\n",
    "    summation = 0\n",
    "    for j in range(0, len(ret[i])-1):\n",
    "        if r == []:\n",
    "            p.append([])\n",
    "        else:\n",
    "            if j == 0:\n",
    "                summation = summation + my_l[i] + r[i] + newV[i][j]\n",
    "                summations.append(summation)\n",
    "            else:\n",
    "                summation =  summation + newV[i][j]\n",
    "                summations.append(summation)\n",
    "\n",
    "myList = summations\n",
    "                    \n",
    "#myNum = (2,4,3) \n",
    "newsum = [] \n",
    "\n",
    "myNum = []\n",
    "\n",
    "for i in range(0, number_of_vessels):\n",
    "    if ret[i] == []:\n",
    "        myNum.append(0)\n",
    "    else:\n",
    "        myNum.append(len(ret[i])-1)\n",
    "\n",
    "\n",
    "for i in myNum:\n",
    "    newsum.append(list(myList[:i]))\n",
    "    [ myList.pop(myList.index(x)) for x in myList[:i] ]\n",
    "print(newsum)\n",
    "\n",
    "\n",
    "seen = []\n",
    "\n",
    "\n",
    "\n",
    "for i in range(0, number_of_vessels):\n",
    "    for j in range(0, len(ret[i])):\n",
    "        if ret[i] == []:\n",
    "            b.append()\n",
    "        else:\n",
    "            if ret[i][j] not in seen:\n",
    "                first_ = df_cargoes['lb tw pu'][df_cargoes['cargo index'] == ret[i][j]]\n",
    "                last_ = df_cargoes['ub tw pu'][df_cargoes['cargo index'] == ret[i][j]]\n",
    "                \n",
    "                first_ = pd.DataFrame(first_)\n",
    "                first_ = first_.loc[: , :].values.tolist()\n",
    "                first_ = first_[0][0]\n",
    "                \n",
    "                last_ = pd.DataFrame(last_)\n",
    "                last_ = last_.loc[: , :].values.tolist()\n",
    "                last_ =  last_[0][0]\n",
    "            \n",
    "            "
   ]
  },
  {
   "cell_type": "code",
   "execution_count": 175,
   "id": "1f43b16b",
   "metadata": {},
   "outputs": [
    {
     "data": {
      "text/plain": [
       "[[], [5, 5, 155, 270, 318], [], 5]"
      ]
     },
     "execution_count": 175,
     "metadata": {},
     "output_type": "execute_result"
    }
   ],
   "source": [
    "newsum1[1].insert(0,5)\n",
    "newsum1"
   ]
  },
  {
   "cell_type": "code",
   "execution_count": 71,
   "id": "93871508",
   "metadata": {},
   "outputs": [
    {
     "data": {
      "text/plain": [
       "[[], [38.0, 155, 270, 318], []]"
      ]
     },
     "execution_count": 71,
     "metadata": {},
     "output_type": "execute_result"
    }
   ],
   "source": [
    "newsum1 = [[], [155,270,318],[]]\n",
    "for i in range(0, 2):\n",
    "    if newsum1[i] != []:\n",
    "        newsum1[i].insert(0, my_l[i])\n",
    "newsum1"
   ]
  },
  {
   "cell_type": "code",
   "execution_count": 83,
   "id": "82942bb0",
   "metadata": {},
   "outputs": [
    {
     "name": "stdout",
     "output_type": "stream",
     "text": [
      "no\n"
     ]
    }
   ],
   "source": [
    "seen = []\n",
    "for i in range(0, number_of_vessels):\n",
    "    for j in range(0, len(ret[i])-1):\n",
    "        if ret[i] == []:\n",
    "            b.append([])\n",
    "        else:\n",
    "            if ret[i][j] not in seen:\n",
    "                first_ = df_cargoes['lb tw pu'][df_cargoes['cargo index'] == ret[i][j]]\n",
    "                last_ = df_cargoes['ub tw pu'][df_cargoes['cargo index'] == ret[i][j]]\n",
    "                \n",
    "                first_ = pd.DataFrame(first_)\n",
    "                first_ = first_.loc[: , :].values.tolist()\n",
    "                first_ = first_[0][0]\n",
    "                \n",
    "                last_ = pd.DataFrame(last_)\n",
    "                last_ = last_.loc[: , :].values.tolist()\n",
    "                last_ =  last_[0][0]\n",
    "                \n",
    "                if first_ >= newsum1[i][j]:\n",
    "                    newsum[i][j] = first_\n",
    "                    continue\n",
    "                elif first_ <= newsum1[i][j] <= last_:  \n",
    "                    continue\n",
    "                else:\n",
    "                    print('no')\n",
    "                \n",
    "                seen.append(ret[i][j])\n",
    "            else:\n",
    "                first_ = df_cargoes['lb tw d'][df_cargoes['cargo index'] == ret[i][j]]\n",
    "                last_ = df_cargoes['ub tw d'][df_cargoes['cargo index'] == ret[i][j]]\n",
    "                \n",
    "                first_ = pd.DataFrame(first_)\n",
    "                first_ = first_.loc[: , :].values.tolist()\n",
    "                first_ = first_[0][0]\n",
    "                \n",
    "                last_ = pd.DataFrame(last_)\n",
    "                last_ = last_.loc[: , :].values.tolist()\n",
    "                last_ =  last_[0][0]\n",
    "                \n",
    "                if first_ >= newsum1[i][j]:\n",
    "                    newsum[i][j] = first_\n",
    "                    continue\n",
    "                    \n",
    "                elif first_ <= newsum1[i][j] <= last_:  \n",
    "                    continue\n",
    "                else:\n",
    "                    print('no')\n",
    "           # if j < (len(ret[i])-2):\n",
    "                    for i in range(0, 3):\n",
    "                        for j in range(0, len(ret[i]) - 1):\n",
    "                            if ret[i] == 0:\n",
    "                                b.append([])\n",
    "                            else:\n",
    "                                newsum1[i][j+1] = newsum1[i][j+1] + newsh[i][j]\n"
   ]
  },
  {
   "cell_type": "code",
   "execution_count": 84,
   "id": "cf4a9fc8",
   "metadata": {},
   "outputs": [
    {
     "data": {
      "text/plain": [
       "[[], [38.0, 173, 288, 314], []]"
      ]
     },
     "execution_count": 84,
     "metadata": {},
     "output_type": "execute_result"
    }
   ],
   "source": [
    "newsum1"
   ]
  },
  {
   "cell_type": "code",
   "execution_count": 81,
   "id": "9c948349",
   "metadata": {},
   "outputs": [
    {
     "data": {
      "text/plain": [
       "[[], [18, 18, -1, -1], []]"
      ]
     },
     "execution_count": 81,
     "metadata": {},
     "output_type": "execute_result"
    }
   ],
   "source": [
    "newsh"
   ]
  },
  {
   "cell_type": "code",
   "execution_count": 82,
   "id": "6ccfc7fe",
   "metadata": {},
   "outputs": [
    {
     "data": {
      "text/plain": [
       "[[], [38.0, 173, 288, 314], []]"
      ]
     },
     "execution_count": 82,
     "metadata": {},
     "output_type": "execute_result"
    }
   ],
   "source": [
    "for i in range(0, 3):\n",
    "    for j in range(0, len(ret[i]) - 1):\n",
    "        if ret[i] == 0:\n",
    "            b.append([])\n",
    "        else:\n",
    "            newsum1[i][j+1] = newsum1[i][j+1] + newsh[i][j]\n",
    "newsum1"
   ]
  },
  {
   "cell_type": "code",
   "execution_count": 67,
   "id": "c71a7ba5",
   "metadata": {},
   "outputs": [
    {
     "data": {
      "text/plain": [
       "(2, 2)"
      ]
     },
     "execution_count": 67,
     "metadata": {},
     "output_type": "execute_result"
    }
   ],
   "source": [
    "i,j\n"
   ]
  },
  {
   "cell_type": "code",
   "execution_count": 935,
   "id": "d645143e",
   "metadata": {},
   "outputs": [
    {
     "data": {
      "text/plain": [
       "[7]"
      ]
     },
     "execution_count": 935,
     "metadata": {},
     "output_type": "execute_result"
    }
   ],
   "source": [
    "seen"
   ]
  },
  {
   "cell_type": "code",
   "execution_count": null,
   "id": "d02e05f4",
   "metadata": {},
   "outputs": [],
   "source": []
  },
  {
   "cell_type": "code",
   "execution_count": null,
   "id": "e5375b61",
   "metadata": {},
   "outputs": [],
   "source": []
  },
  {
   "cell_type": "code",
   "execution_count": null,
   "id": "b877e83d",
   "metadata": {},
   "outputs": [],
   "source": []
  },
  {
   "cell_type": "code",
   "execution_count": 891,
   "id": "8b612d49",
   "metadata": {},
   "outputs": [],
   "source": [
    "summations = []\n",
    "for i in range(0, number_of_vessels):\n",
    "    summation = 0\n",
    "    for j in range(0, len(ret[i])-1):\n",
    "        if r == []:\n",
    "            p.append([])\n",
    "        else:\n",
    "            if j == 0:\n",
    "                summation = summation + r[i] + newV[i][j]\n",
    "                summations.append(summation)\n",
    "            else:\n",
    "                summation = summation + newV[i][j]\n",
    "                summations.append(summation)"
   ]
  },
  {
   "cell_type": "code",
   "execution_count": 892,
   "id": "1a25cfb3",
   "metadata": {},
   "outputs": [
    {
     "data": {
      "text/plain": [
       "[117, 214, 280, 191, 382, 412]"
      ]
     },
     "execution_count": 892,
     "metadata": {},
     "output_type": "execute_result"
    }
   ],
   "source": [
    "summations"
   ]
  },
  {
   "cell_type": "code",
   "execution_count": 888,
   "id": "23a22ab8",
   "metadata": {},
   "outputs": [
    {
     "data": {
      "text/plain": [
       "(2, 2)"
      ]
     },
     "execution_count": 888,
     "metadata": {},
     "output_type": "execute_result"
    }
   ],
   "source": [
    "i, j"
   ]
  },
  {
   "cell_type": "code",
   "execution_count": null,
   "id": "fe0d334c",
   "metadata": {},
   "outputs": [],
   "source": []
  },
  {
   "cell_type": "code",
   "execution_count": 737,
   "id": "f379a2e7",
   "metadata": {},
   "outputs": [],
   "source": [
    "myNum = []\n",
    "for i in range(0, number_of_vessels):\n",
    "    myNum.append(len(ret[i]))"
   ]
  },
  {
   "cell_type": "code",
   "execution_count": 34,
   "id": "59f90b22",
   "metadata": {},
   "outputs": [
    {
     "data": {
      "text/plain": [
       "[[], [250, 567, 168, 529], []]"
      ]
     },
     "execution_count": 34,
     "metadata": {},
     "output_type": "execute_result"
    }
   ],
   "source": [
    "newordest"
   ]
  },
  {
   "cell_type": "code",
   "execution_count": 671,
   "id": "a14cbdb0",
   "metadata": {},
   "outputs": [
    {
     "data": {
      "text/plain": [
       "[6   -5310\n",
       " Name: size, dtype: int64,\n",
       " 1   -13444\n",
       " Name: size, dtype: int64]"
      ]
     },
     "execution_count": 671,
     "metadata": {},
     "output_type": "execute_result"
    }
   ],
   "source": [
    "b"
   ]
  },
  {
   "cell_type": "code",
   "execution_count": 618,
   "id": "4dd1837f",
   "metadata": {},
   "outputs": [
    {
     "data": {
      "text/plain": [
       "[1.0, 3.0, 7.0, nan, nan, nan, nan]"
      ]
     },
     "execution_count": 618,
     "metadata": {},
     "output_type": "execute_result"
    }
   ],
   "source": [
    "v[1]"
   ]
  },
  {
   "cell_type": "code",
   "execution_count": 535,
   "id": "6ed819ca",
   "metadata": {},
   "outputs": [],
   "source": [
    "for i in range(0, len(ret)-1):\n",
    "    if ret[i] == []:\n",
    "        cost_home.append(df_cost['travel cost (in Ä)'][(df_cost['vessel'] == 0) & (df_cost['origin port'] == 0) & (df_cost['destination port'] == 0)])\n",
    "       # i = i+1\n",
    "    else:\n",
    "        \n",
    "        k = df_home_port['home port'][df_home_port['vessel index'] == i+1]\n",
    "        m = df_cargoes['origin port'][(df_cargoes['cargo index'] == ret[i][0])]\n",
    "            \n",
    "        k = pd.DataFrame(k)\n",
    "        k = k.loc[: , :].values.tolist()\n",
    "        k = k[0][0]\n",
    "            \n",
    "        m = pd.DataFrame(m)\n",
    "        m = m.loc[: , :].values.tolist()\n",
    "        m = m[0][0]\n",
    "\n",
    "        cost_home.append(df_cost['travel cost (in Ä)'][(df_cost['vessel'] ==i+1) & (df_cost['origin port'] == k) & (df_cost['destination port'] == m)])\n",
    "\n"
   ]
  },
  {
   "cell_type": "code",
   "execution_count": null,
   "id": "ab4d5fc5",
   "metadata": {},
   "outputs": [],
   "source": [
    "newordest"
   ]
  },
  {
   "cell_type": "code",
   "execution_count": null,
   "id": "b56d70a0",
   "metadata": {},
   "outputs": [],
   "source": []
  },
  {
   "cell_type": "code",
   "execution_count": null,
   "id": "ff1a8f3d",
   "metadata": {},
   "outputs": [],
   "source": []
  },
  {
   "cell_type": "code",
   "execution_count": null,
   "id": "0be44adc",
   "metadata": {},
   "outputs": [],
   "source": []
  },
  {
   "cell_type": "code",
   "execution_count": null,
   "id": "2c29904f",
   "metadata": {},
   "outputs": [],
   "source": []
  },
  {
   "cell_type": "code",
   "execution_count": 536,
   "id": "a48f90c4",
   "metadata": {},
   "outputs": [
    {
     "data": {
      "text/plain": [
       "[Series([], Name: travel cost (in Ä), dtype: float64),\n",
       " 1453    58472.0\n",
       " Name: travel cost (in Ä), dtype: float64,\n",
       " 3587    32237.0\n",
       " Name: travel cost (in Ä), dtype: float64,\n",
       " Series([], Name: travel cost (in Ä), dtype: float64),\n",
       " Series([], Name: travel cost (in Ä), dtype: float64),\n",
       " Series([], Name: travel cost (in Ä), dtype: float64),\n",
       " Series([], Name: travel cost (in Ä), dtype: float64),\n",
       " Series([], Name: travel cost (in Ä), dtype: float64),\n",
       " Series([], Name: travel cost (in Ä), dtype: float64),\n",
       " Series([], Name: travel cost (in Ä), dtype: float64),\n",
       " 1453    58472.0\n",
       " Name: travel cost (in Ä), dtype: float64,\n",
       " 3587    32237.0\n",
       " Name: travel cost (in Ä), dtype: float64]"
      ]
     },
     "execution_count": 536,
     "metadata": {},
     "output_type": "execute_result"
    }
   ],
   "source": [
    "cost_home"
   ]
  },
  {
   "cell_type": "code",
   "execution_count": null,
   "id": "ad3ae855",
   "metadata": {},
   "outputs": [],
   "source": []
  },
  {
   "cell_type": "code",
   "execution_count": null,
   "id": "e094fab2",
   "metadata": {},
   "outputs": [],
   "source": []
  },
  {
   "cell_type": "code",
   "execution_count": 454,
   "id": "82d40ca2",
   "metadata": {},
   "outputs": [],
   "source": [
    "sep = 0\n",
    "ret = [list(items) for key, items in groupby(input_, lambda x: x==sep) if not key]"
   ]
  },
  {
   "cell_type": "code",
   "execution_count": 455,
   "id": "472e0d81",
   "metadata": {},
   "outputs": [
    {
     "data": {
      "text/plain": [
       "[[1, 1], [3, 3], [5, 5], [7, 6, 2, 4, 7, 6, 2, 4]]"
      ]
     },
     "execution_count": 455,
     "metadata": {},
     "output_type": "execute_result"
    }
   ],
   "source": [
    "ret"
   ]
  },
  {
   "cell_type": "code",
   "execution_count": 456,
   "id": "eb5ff853",
   "metadata": {},
   "outputs": [],
   "source": [
    "df_cost = df_cost.astype({'travel cost (in Ä)':'float', 'vessel': 'float', 'origin port':'float', 'destination port': 'float'})"
   ]
  },
  {
   "cell_type": "code",
   "execution_count": 479,
   "id": "63e60cfb",
   "metadata": {},
   "outputs": [
    {
     "name": "stdout",
     "output_type": "stream",
     "text": [
      "1\n",
      "2\n"
     ]
    },
    {
     "ename": "IndexError",
     "evalue": "list index out of range",
     "output_type": "error",
     "traceback": [
      "\u001b[0;31m---------------------------------------------------------------------------\u001b[0m",
      "\u001b[0;31mIndexError\u001b[0m                                Traceback (most recent call last)",
      "\u001b[0;32m/var/folders/kb/thwlxvy95hb7d5p5mmxzs8zw0000gn/T/ipykernel_13946/2985488372.py\u001b[0m in \u001b[0;36m<module>\u001b[0;34m\u001b[0m\n\u001b[1;32m     46\u001b[0m \u001b[0;32mfor\u001b[0m \u001b[0mi\u001b[0m \u001b[0;32min\u001b[0m \u001b[0mrange\u001b[0m\u001b[0;34m(\u001b[0m\u001b[0;36m0\u001b[0m\u001b[0;34m,\u001b[0m \u001b[0mlen\u001b[0m\u001b[0;34m(\u001b[0m\u001b[0mk\u001b[0m\u001b[0;34m)\u001b[0m\u001b[0;34m)\u001b[0m\u001b[0;34m:\u001b[0m\u001b[0;34m\u001b[0m\u001b[0;34m\u001b[0m\u001b[0m\n\u001b[1;32m     47\u001b[0m     \u001b[0;32mif\u001b[0m \u001b[0mret\u001b[0m\u001b[0;34m[\u001b[0m\u001b[0mi\u001b[0m\u001b[0;34m]\u001b[0m \u001b[0;34m==\u001b[0m \u001b[0;34m[\u001b[0m\u001b[0;34m]\u001b[0m\u001b[0;34m:\u001b[0m\u001b[0;34m\u001b[0m\u001b[0;34m\u001b[0m\u001b[0m\n\u001b[0;32m---> 48\u001b[0;31m         \u001b[0mK\u001b[0m\u001b[0;34m.\u001b[0m\u001b[0mappend\u001b[0m\u001b[0;34m(\u001b[0m\u001b[0mdf_cargoes\u001b[0m\u001b[0;34m[\u001b[0m\u001b[0;34m'origin port'\u001b[0m\u001b[0;34m]\u001b[0m\u001b[0;34m[\u001b[0m\u001b[0;34m(\u001b[0m\u001b[0mdf_cargoes\u001b[0m\u001b[0;34m[\u001b[0m\u001b[0;34m'cargo index'\u001b[0m\u001b[0;34m]\u001b[0m \u001b[0;34m==\u001b[0m \u001b[0mret\u001b[0m\u001b[0;34m[\u001b[0m\u001b[0mi\u001b[0m\u001b[0;34m]\u001b[0m\u001b[0;34m[\u001b[0m\u001b[0;36m0\u001b[0m\u001b[0;34m]\u001b[0m\u001b[0;34m)\u001b[0m\u001b[0;34m]\u001b[0m\u001b[0;34m)\u001b[0m\u001b[0;34m\u001b[0m\u001b[0;34m\u001b[0m\u001b[0m\n\u001b[0m\u001b[1;32m     49\u001b[0m     \u001b[0;32melse\u001b[0m\u001b[0;34m:\u001b[0m\u001b[0;34m\u001b[0m\u001b[0;34m\u001b[0m\u001b[0m\n\u001b[1;32m     50\u001b[0m         \u001b[0mK\u001b[0m\u001b[0;34m.\u001b[0m\u001b[0mappend\u001b[0m\u001b[0;34m(\u001b[0m\u001b[0mk\u001b[0m\u001b[0;34m[\u001b[0m\u001b[0mi\u001b[0m\u001b[0;34m]\u001b[0m\u001b[0;34m[\u001b[0m\u001b[0mi\u001b[0m\u001b[0;34m]\u001b[0m\u001b[0;34m)\u001b[0m\u001b[0;34m\u001b[0m\u001b[0;34m\u001b[0m\u001b[0m\n",
      "\u001b[0;31mIndexError\u001b[0m: list index out of range"
     ]
    }
   ],
   "source": [
    "list_ = []\n",
    "l=[]\n",
    "cost_of_not_transfer=[]\n",
    "m=[]\n",
    "k=[]\n",
    "s=[]\n",
    "cost_home = []\n",
    "cost_vc_origin = []\n",
    "cost_vc_dest =[]\n",
    "\n",
    "\n",
    "for i in ret:\n",
    "    if i[-1] == 0:\n",
    "        del i[-1]\n",
    "\n",
    "\n",
    "\n",
    "for i in range(0, number_of_vessels):\n",
    "        if ret[i] == []:\n",
    "            m.append(df_cargoes['origin port'][(df_cargoes['cargo index'] == 0)])\n",
    "            k.append(df_home_port['home port'][(df_home_port['vessel index'] == 0)])\n",
    "        \n",
    "        else:\n",
    "            k.append(df_home_port['home port'][(df_home_port['vessel index'] == i+1)])\n",
    "            print(i)\n",
    "            s.append(ret[i][0])\n",
    "            m.append(df_cargoes['origin port'][(df_cargoes['cargo index'] == ret[i][0])])\n",
    "M = []\n",
    "m = pd.DataFrame(m)\n",
    "m = m.loc[: , :].values.tolist()\n",
    "#m.columns = [0, 1, 2]\n",
    "\n",
    "from math import nan\n",
    "M_ = []\n",
    "for i in m:\n",
    "    for j in range(0, len(i)):\n",
    "        if str(i[j]) != 'nan':\n",
    "            M_.append(i[j])\n",
    "\n",
    "\n",
    "\n",
    "\n",
    "#for i in range(0, len(m)):\n",
    "   # M.append(m[i][i])\n",
    "K = []\n",
    "for i in range(0, len(k)):\n",
    "    if ret[i] == []:\n",
    "        K.append(df_cargoes['origin port'][(df_cargoes['cargo index'] == ret[i][0])])\n",
    "    else:\n",
    "        K.append(k[i][i])\n",
    "        \n",
    "for i in range(0, len(K)):\n",
    "    if ret[i] == []:\n",
    "        cost_home.append(df_cost['travel cost (in Ä)'][(df_cost['vessel'] == 0) & (df_cost['origin port'] == 0) & (df_cost['destination port'] == 0)])\n",
    "       # i = i+1\n",
    "    else:\n",
    "        cost_home.append(df_cost['travel cost (in Ä)'][(df_cost['vessel'] ==i+1) & (df_cost['origin port'] == K[i]) & (df_cost['destination port'] == M_[i])])\n",
    "\n",
    "seen = []       \n",
    "for i in range(0, len(ret)):\n",
    "    for j in range(0, len(ret[i])):\n",
    "        if j+1 >= len(ret[i]):\n",
    "            continue\n",
    "        elif ret[i] == []:\n",
    "            list_.append(df_cost['travel cost (in Ä)'][(df_cost['vessel'] == 0) & (df_cost['origin port'] == 0) & (df_cost['destination port'] == 0)])\n",
    "    \n",
    "                                                                                                             \n",
    "        else:\n",
    "            #vessel = i+1\n",
    "            #origin_port = ret[i][j]\n",
    "            #dest_port = ret[i][j+1]\n",
    "            g = df_cargoes['origin port'][df_cargoes['cargo index'] == ret[i][j]]\n",
    "            f = df_cargoes['destination port'][df_cargoes['cargo index'] == ret[i][j+1]]\n",
    "            \n",
    "            g = pd.DataFrame(g)\n",
    "            g = g.loc[: , :].values.tolist()\n",
    "            g = g[0][0]\n",
    "            \n",
    "            f = pd.DataFrame(f)\n",
    "            f = f.loc[: , :].values.tolist()\n",
    "            f = f[0][0]\n",
    "            if ret[i][j] not in seen:\n",
    "\n",
    "                list_.append(df_cost['travel cost (in Ä)'][(df_cost['vessel'] ==i+1) & (df_cost['origin port'] == g) & (df_cost['destination port'] == f)])\n",
    "                seen.append(ret[i][j])\n",
    "            else:\n",
    "                \n",
    "                g = df_cargoes['origin port'][df_cargoes['cargo index'] == ret[i][j+1]]\n",
    "                f = df_cargoes['destination port'][df_cargoes['cargo index'] == ret[i][j]]\n",
    "            \n",
    "             \n",
    "                g = pd.DataFrame(g)\n",
    "                g = g.loc[: , :].values.tolist()\n",
    "                g = g[0][0]\n",
    "            \n",
    "                f = pd.DataFrame(f)\n",
    "                f = f.loc[: , :].values.tolist()\n",
    "                f = f[0][0]\n",
    "                \n",
    "                list_.append(df_cost['travel cost (in Ä)'][(df_cost['vessel'] ==i+1) & (df_cost['origin port'] == g) & (df_cost['destination port'] == f)])\n",
    "            \n",
    "\n",
    "\n",
    "l = [*set(ret[3])]\n",
    "            \n",
    "for j in range(0, len(l)):\n",
    "    if j+1 >= len(ret[3]):\n",
    "            continue\n",
    "    else:\n",
    "        cost_of_not_transfer.append(df_cargoes['cost of not transporting'][df_cargoes['cargo index'] == l[j]])\n",
    "\n",
    "        \n",
    "        \n",
    "        \n",
    "ret1 = []\n",
    "for i in range(0, 3):\n",
    "    ret1.append([*set(ret[i])])\n",
    "#ret1 = [*set(ret[3])]                \n",
    "for i in range(0, len(ret1)):\n",
    "    for j in range(0, len(ret1[i])):\n",
    "        if ret1[i] == []:\n",
    "            cost_vc_origin.append(df_port_cost['origin port costs (in Ä)'][(df_port_cost['vessel'] == 0) & (df_port_cost['cargo'] == 0)])\n",
    "        else:\n",
    "            cost_vc_origin.append(df_port_cost['origin port costs (in Ä)'][(df_port_cost['vessel'] ==i+1) & (df_port_cost['cargo'] ==ret1[i][j])])\n",
    "            cost_vc_dest.append(df_port_cost['destination port costs (in Ä)'][(df_port_cost['vessel'] ==i+1) & (df_port_cost['cargo'] ==ret1[i][j])])    \n",
    "            "
   ]
  },
  {
   "cell_type": "code",
   "execution_count": 563,
   "id": "4ffa3763",
   "metadata": {},
   "outputs": [],
   "source": [
    "list_ = []\n",
    "l=[]\n",
    "cost_of_not_transfer=[]\n",
    "\n",
    "s=[]\n",
    "cost_home = []\n",
    "cost_vc_origin = []\n",
    "cost_vc_dest =[]\n",
    "\n",
    "\n",
    "for i in ret:\n",
    "    if i[-1] == 0:\n",
    "        del i[-1]\n",
    "\n",
    "\n",
    "for i in range(0, len(ret)-1):\n",
    "    if ret[i] == []:\n",
    "        cost_home.append(df_cost['travel cost (in Ä)'][(df_cost['vessel'] == 0) & (df_cost['origin port'] == 0) & (df_cost['destination port'] == 0)])\n",
    "       # i = i+1\n",
    "    else:\n",
    "        \n",
    "        k = df_home_port['home port'][df_home_port['vessel index'] == i+1]\n",
    "        m = df_cargoes['origin port'][(df_cargoes['cargo index'] == ret[i][0])]\n",
    "            \n",
    "        k = pd.DataFrame(k)\n",
    "        k = k.loc[: , :].values.tolist()\n",
    "        k = k[0][0]\n",
    "            \n",
    "        m = pd.DataFrame(m)\n",
    "        m = m.loc[: , :].values.tolist()\n",
    "        m = m[0][0]\n",
    "\n",
    "        cost_home.append(df_cost['travel cost (in Ä)'][(df_cost['vessel'] ==i+1) & (df_cost['origin port'] == k) & (df_cost['destination port'] == m)])\n",
    "\n",
    "\n",
    "seen = []       \n",
    "for i in range(0, len(ret)):\n",
    "    for j in range(0, len(ret[i])):\n",
    "        if j+1 >= len(ret[i]):\n",
    "            continue\n",
    "        elif ret[i] == []:\n",
    "            list_.append(df_cost['travel cost (in Ä)'][(df_cost['vessel'] == 0) & (df_cost['origin port'] == 0) & (df_cost['destination port'] == 0)])\n",
    "    \n",
    "                                                                                                             \n",
    "        else:\n",
    "            #vessel = i+1\n",
    "            #origin_port = ret[i][j]\n",
    "            #dest_port = ret[i][j+1]\n",
    "            g = df_cargoes['origin port'][df_cargoes['cargo index'] == ret[i][j]]\n",
    "            f = df_cargoes['destination port'][df_cargoes['cargo index'] == ret[i][j+1]]\n",
    "            \n",
    "            g = pd.DataFrame(g)\n",
    "            g = g.loc[: , :].values.tolist()\n",
    "            g = g[0][0]\n",
    "            \n",
    "            f = pd.DataFrame(f)\n",
    "            f = f.loc[: , :].values.tolist()\n",
    "            f = f[0][0]\n",
    "            if ret[i][j] not in seen:\n",
    "\n",
    "                list_.append(df_cost['travel cost (in Ä)'][(df_cost['vessel'] ==i+1) & (df_cost['origin port'] == g) & (df_cost['destination port'] == f)])\n",
    "                seen.append(ret[i][j])\n",
    "            else:\n",
    "                \n",
    "                g = df_cargoes['origin port'][df_cargoes['cargo index'] == ret[i][j+1]]\n",
    "                f = df_cargoes['destination port'][df_cargoes['cargo index'] == ret[i][j]]\n",
    "            \n",
    "             \n",
    "                g = pd.DataFrame(g)\n",
    "                g = g.loc[: , :].values.tolist()\n",
    "                g = g[0][0]\n",
    "            \n",
    "                f = pd.DataFrame(f)\n",
    "                f = f.loc[: , :].values.tolist()\n",
    "                f = f[0][0]\n",
    "                \n",
    "                list_.append(df_cost['travel cost (in Ä)'][(df_cost['vessel'] ==i+1) & (df_cost['origin port'] == g) & (df_cost['destination port'] == f)])\n",
    "            \n",
    "\n",
    "\n",
    "l = [*set(ret[3])]\n",
    "            \n",
    "for j in range(0, len(l)):\n",
    "    if j+1 >= len(ret[3]):\n",
    "            continue\n",
    "    else:\n",
    "        cost_of_not_transfer.append(df_cargoes['cost of not transporting'][df_cargoes['cargo index'] == l[j]])\n",
    "\n",
    "        \n",
    "        \n",
    "        \n",
    "ret1 = []\n",
    "for i in range(0, 3):\n",
    "    ret1.append([*set(ret[i])])\n",
    "#ret1 = [*set(ret[3])]                \n",
    "for i in range(0, len(ret1)):\n",
    "    for j in range(0, len(ret1[i])):\n",
    "        if ret1[i] == []:\n",
    "            cost_vc_origin.append(df_port_cost['origin port costs (in Ä)'][(df_port_cost['vessel'] == 0) & (df_port_cost['cargo'] == 0)])\n",
    "        else:\n",
    "            cost_vc_origin.append(df_port_cost['origin port costs (in Ä)'][(df_port_cost['vessel'] ==i+1) & (df_port_cost['cargo'] ==ret1[i][j])])\n",
    "            cost_vc_dest.append(df_port_cost['destination port costs (in Ä)'][(df_port_cost['vessel'] ==i+1) & (df_port_cost['cargo'] ==ret1[i][j])])    \n",
    "            "
   ]
  },
  {
   "cell_type": "code",
   "execution_count": 565,
   "id": "4f47627f",
   "metadata": {},
   "outputs": [
    {
     "data": {
      "text/plain": [
       "[[], [7, 7], [], [4, 1, 2, 5, 3, 6, 4, 1, 2, 5, 3, 6]]"
      ]
     },
     "execution_count": 565,
     "metadata": {},
     "output_type": "execute_result"
    }
   ],
   "source": [
    "ret"
   ]
  },
  {
   "cell_type": "code",
   "execution_count": 275,
   "id": "f51e7a7a",
   "metadata": {},
   "outputs": [],
   "source": [
    "K = []\n",
    "for i in range(0, len(k)):\n",
    "    #if ret[i] == []:\n",
    "       # K.append(df_cargoes['origin port'][(df_cargoes['cargo index'] == ret[i][0])])\n",
    "    #else:\n",
    "    K.append(k[i][i])"
   ]
  },
  {
   "cell_type": "code",
   "execution_count": 498,
   "id": "68ad236b",
   "metadata": {},
   "outputs": [
    {
     "data": {
      "text/plain": [
       "[]"
      ]
     },
     "execution_count": 498,
     "metadata": {},
     "output_type": "execute_result"
    }
   ],
   "source": [
    "m"
   ]
  },
  {
   "cell_type": "code",
   "execution_count": 303,
   "id": "ddd9aae1",
   "metadata": {},
   "outputs": [],
   "source": [
    "k = pd.DataFrame(k)\n",
    "k = k.loc[: , :].values.tolist()"
   ]
  },
  {
   "cell_type": "code",
   "execution_count": 566,
   "id": "45453eef",
   "metadata": {},
   "outputs": [
    {
     "data": {
      "text/plain": [
       "[2941    7783.0\n",
       " Name: travel cost (in Ä), dtype: float64,\n",
       " Series([], Name: travel cost (in Ä), dtype: float64),\n",
       " Series([], Name: travel cost (in Ä), dtype: float64),\n",
       " Series([], Name: travel cost (in Ä), dtype: float64),\n",
       " Series([], Name: travel cost (in Ä), dtype: float64),\n",
       " Series([], Name: travel cost (in Ä), dtype: float64),\n",
       " Series([], Name: travel cost (in Ä), dtype: float64),\n",
       " Series([], Name: travel cost (in Ä), dtype: float64),\n",
       " Series([], Name: travel cost (in Ä), dtype: float64),\n",
       " Series([], Name: travel cost (in Ä), dtype: float64),\n",
       " Series([], Name: travel cost (in Ä), dtype: float64),\n",
       " Series([], Name: travel cost (in Ä), dtype: float64)]"
      ]
     },
     "execution_count": 566,
     "metadata": {},
     "output_type": "execute_result"
    }
   ],
   "source": [
    "list_"
   ]
  },
  {
   "cell_type": "code",
   "execution_count": 172,
   "id": "f934e916",
   "metadata": {},
   "outputs": [
    {
     "name": "stdout",
     "output_type": "stream",
     "text": [
      "[[1, 2, 3, 0], [0], [1, 5, 6, 8, 0], [6, 5, 7]]\n"
     ]
    }
   ],
   "source": [
    "\n",
    "myList = [1,2,3,0,0,1,5,6,8,0,6,5,7]\n",
    "\n",
    "indices = [i + 1 for i, x in enumerate(myList) if x == 0]\n",
    "\n",
    "split_stuff = [myList[i:j] for i, j in zip([0] + indices, indices + [None])]\n",
    "\n",
    "print(split_stuff) "
   ]
  },
  {
   "cell_type": "code",
   "execution_count": 493,
   "id": "15ccbbf4",
   "metadata": {},
   "outputs": [
    {
     "data": {
      "text/plain": [
       "[]"
      ]
     },
     "execution_count": 493,
     "metadata": {},
     "output_type": "execute_result"
    }
   ],
   "source": [
    "cost_home"
   ]
  },
  {
   "cell_type": "code",
   "execution_count": 144,
   "id": "36a02839",
   "metadata": {},
   "outputs": [
    {
     "data": {
      "text/plain": [
       "Series([], Name: cost of not transporting, dtype: int64)"
      ]
     },
     "execution_count": 144,
     "metadata": {},
     "output_type": "execute_result"
    }
   ],
   "source": [
    "df_cargoes['cost of not transporting'][df_cargoes['cargo index'] == 0]"
   ]
  },
  {
   "cell_type": "code",
   "execution_count": 142,
   "id": "152e6acb",
   "metadata": {},
   "outputs": [
    {
     "name": "stdout",
     "output_type": "stream",
     "text": [
      "0\n",
      "2\n"
     ]
    }
   ],
   "source": [
    "m=[]\n",
    "k= []\n",
    "for i in range(0, number_of_vessels):\n",
    "        if split_stuff[i] == []:\n",
    "            m.append(df_cargoes['origin port'][(df_cargoes['cargo index'] == 0)])\n",
    "            k.append(df_home_port['home port'][(df_home_port['vessel index'] == 0)])\n",
    "        else:\n",
    "            k.append(df_home_port['home port'][(df_home_port['vessel index'] == i+1)])\n",
    "            print(i)\n",
    "            s.append(ret[i][0])\n",
    "            m.append(df_cargoes['origin port'][(df_cargoes['cargo index'] == split_stuff[i][0])])"
   ]
  },
  {
   "cell_type": "code",
   "execution_count": 137,
   "id": "f282c8dc",
   "metadata": {},
   "outputs": [
    {
     "data": {
      "text/plain": [
       "Series([], Name: origin port, dtype: int64)"
      ]
     },
     "execution_count": 137,
     "metadata": {},
     "output_type": "execute_result"
    }
   ],
   "source": [
    "df_cargoes['origin port'][(df_cargoes['cargo index'] == 0)]"
   ]
  },
  {
   "cell_type": "code",
   "execution_count": 143,
   "id": "bd19e4c5",
   "metadata": {},
   "outputs": [
    {
     "data": {
      "text/plain": [
       "[[8.0, nan], [nan, nan], [nan, 31.0]]"
      ]
     },
     "execution_count": 143,
     "metadata": {},
     "output_type": "execute_result"
    }
   ],
   "source": [
    "k = pd.DataFrame(k)\n",
    "k = k.loc[: , :].values.tolist()\n",
    "k"
   ]
  },
  {
   "cell_type": "code",
   "execution_count": 21,
   "id": "d3a2e352",
   "metadata": {},
   "outputs": [
    {
     "data": {
      "text/plain": [
       "1980    179474.0\n",
       "Name: travel cost (in Ä), dtype: float64"
      ]
     },
     "execution_count": 21,
     "metadata": {},
     "output_type": "execute_result"
    }
   ],
   "source": [
    "g = df_cargoes['origin port'][df_cargoes['cargo index'] == ret[0][0]]\n",
    "f = df_cargoes['destination port'][df_cargoes['cargo index'] == ret[0][1]]\n",
    "            \n",
    "g = pd.DataFrame(g)\n",
    "g = g.loc[: , :].values.tolist()\n",
    "g = g[0][0]\n",
    "            \n",
    "f = pd.DataFrame(f)\n",
    "f = f.loc[: , :].values.tolist()\n",
    "f = f[0][0]\n",
    "            \n",
    "df_cost['travel cost (in Ä)'][(df_cost['vessel'] ==1) & (df_cost['origin port'] == g) & (df_cost['destination port'] == f)]\n",
    "            "
   ]
  },
  {
   "cell_type": "code",
   "execution_count": 22,
   "id": "8d382ed3",
   "metadata": {},
   "outputs": [
    {
     "data": {
      "text/plain": [
       "(37, 17)"
      ]
     },
     "execution_count": 22,
     "metadata": {},
     "output_type": "execute_result"
    }
   ],
   "source": [
    "f, g"
   ]
  },
  {
   "cell_type": "code",
   "execution_count": 23,
   "id": "f37e1f47",
   "metadata": {},
   "outputs": [],
   "source": [
    "ret1 = []\n",
    "for i in range(0, 3):\n",
    "    ret1.append([*set(ret[i])])"
   ]
  },
  {
   "cell_type": "code",
   "execution_count": 24,
   "id": "859b9867",
   "metadata": {},
   "outputs": [],
   "source": [
    "#df_cost['travel cost (in Ä)'][(df_cost['vessel'] ==i+1) & (df_cost['origin port'] == df_cargoes['origin port'][df_cargoes['cargo index'] == ret[i][j]]) & (df_cost['destination port'] ==ret[i][j+1])]\n",
    "g = df_cargoes['origin port'][df_cargoes['cargo index'] == ret[i][j]]"
   ]
  },
  {
   "cell_type": "code",
   "execution_count": 25,
   "id": "55cb5af4",
   "metadata": {},
   "outputs": [
    {
     "data": {
      "text/plain": [
       "5    10\n",
       "Name: origin port, dtype: int64"
      ]
     },
     "execution_count": 25,
     "metadata": {},
     "output_type": "execute_result"
    }
   ],
   "source": [
    "g"
   ]
  },
  {
   "cell_type": "code",
   "execution_count": 26,
   "id": "e04ebc9e",
   "metadata": {},
   "outputs": [],
   "source": [
    "g = pd.DataFrame(g)\n",
    "g = g.loc[: , :].values.tolist()"
   ]
  },
  {
   "cell_type": "code",
   "execution_count": 27,
   "id": "dc315aed",
   "metadata": {},
   "outputs": [
    {
     "data": {
      "text/plain": [
       "10"
      ]
     },
     "execution_count": 27,
     "metadata": {},
     "output_type": "execute_result"
    }
   ],
   "source": [
    "g[0][0]"
   ]
  },
  {
   "cell_type": "code",
   "execution_count": 567,
   "id": "c3b2cdd2",
   "metadata": {},
   "outputs": [
    {
     "data": {
      "text/plain": [
       "[13    30200\n",
       " Name: origin port costs (in Ä), dtype: int64]"
      ]
     },
     "execution_count": 567,
     "metadata": {},
     "output_type": "execute_result"
    }
   ],
   "source": [
    "cost_vc_origin"
   ]
  },
  {
   "cell_type": "code",
   "execution_count": 29,
   "id": "4c3ff776",
   "metadata": {},
   "outputs": [],
   "source": [
    "#l=[]\n",
    "#for j in range(0, len(ret[3])):\n",
    "      #  if j+1 >= len(ret[3]):\n",
    "            #continue\n",
    "       # if ret[3][j+1] == ret[3][j]:\n",
    "            #continue        \n",
    "        #else:\n",
    "  #          l.append(ret[3][j])\n"
   ]
  },
  {
   "cell_type": "code",
   "execution_count": 30,
   "id": "cd2c75a4",
   "metadata": {},
   "outputs": [],
   "source": [
    "#cost_of_not_transfer"
   ]
  },
  {
   "cell_type": "code",
   "execution_count": 31,
   "id": "9ad0b2dc",
   "metadata": {},
   "outputs": [],
   "source": [
    "#dimension = 0\n",
    "#for i in range(0, number_of_vessels):\n",
    "  #  dimension = dimension + (len(ret[i])-1)"
   ]
  },
  {
   "cell_type": "code",
   "execution_count": 32,
   "id": "1bf96909",
   "metadata": {},
   "outputs": [
    {
     "data": {
      "text/plain": [
       "[[17.0, nan, nan], [nan, nan, 26.0], [nan, 38.0, nan]]"
      ]
     },
     "execution_count": 32,
     "metadata": {},
     "output_type": "execute_result"
    }
   ],
   "source": [
    "m"
   ]
  },
  {
   "cell_type": "code",
   "execution_count": 309,
   "id": "a0121c15",
   "metadata": {},
   "outputs": [
    {
     "data": {
      "text/plain": [
       "[2940    7783.0\n",
       " Name: travel cost (in Ä), dtype: float64,\n",
       " 1951    5792.0\n",
       " Name: travel cost (in Ä), dtype: float64,\n",
       " 4427    65817.0\n",
       " Name: travel cost (in Ä), dtype: float64,\n",
       " 4442    0.0\n",
       " Name: travel cost (in Ä), dtype: float64,\n",
       " 1166    63232.0\n",
       " Name: travel cost (in Ä), dtype: float64,\n",
       " Series([], Name: travel cost (in Ä), dtype: float64),\n",
       " Series([], Name: travel cost (in Ä), dtype: float64),\n",
       " Series([], Name: travel cost (in Ä), dtype: float64),\n",
       " Series([], Name: travel cost (in Ä), dtype: float64),\n",
       " Series([], Name: travel cost (in Ä), dtype: float64)]"
      ]
     },
     "execution_count": 309,
     "metadata": {},
     "output_type": "execute_result"
    }
   ],
   "source": [
    "list_"
   ]
  },
  {
   "cell_type": "code",
   "execution_count": 34,
   "id": "9b980e6b",
   "metadata": {},
   "outputs": [],
   "source": [
    "from math import nan\n",
    "M_ = []\n",
    "for i in m:\n",
    "    for j in range(0, len(i)):\n",
    "        if str(i[j]) != 'nan':\n",
    "            M_.append(i[j])"
   ]
  },
  {
   "cell_type": "code",
   "execution_count": 35,
   "id": "551de095",
   "metadata": {},
   "outputs": [
    {
     "data": {
      "text/plain": [
       "[17.0, 26.0, 38.0]"
      ]
     },
     "execution_count": 35,
     "metadata": {},
     "output_type": "execute_result"
    }
   ],
   "source": [
    "M_"
   ]
  },
  {
   "cell_type": "code",
   "execution_count": 36,
   "id": "4e8f67d7",
   "metadata": {},
   "outputs": [],
   "source": [
    "def createlist(r1, r2):\n",
    "    return list(range(r1, r2))"
   ]
  },
  {
   "cell_type": "code",
   "execution_count": 459,
   "id": "3111f234",
   "metadata": {},
   "outputs": [
    {
     "data": {
      "text/plain": [
       "[867    20854.0\n",
       " Name: travel cost (in Ä), dtype: float64,\n",
       " 1453    58472.0\n",
       " Name: travel cost (in Ä), dtype: float64,\n",
       " 3623    84492.0\n",
       " Name: travel cost (in Ä), dtype: float64]"
      ]
     },
     "execution_count": 459,
     "metadata": {},
     "output_type": "execute_result"
    }
   ],
   "source": [
    "cost_home"
   ]
  },
  {
   "cell_type": "code",
   "execution_count": 568,
   "id": "d7ed732e",
   "metadata": {},
   "outputs": [
    {
     "data": {
      "text/html": [
       "<div>\n",
       "<style scoped>\n",
       "    .dataframe tbody tr th:only-of-type {\n",
       "        vertical-align: middle;\n",
       "    }\n",
       "\n",
       "    .dataframe tbody tr th {\n",
       "        vertical-align: top;\n",
       "    }\n",
       "\n",
       "    .dataframe thead th {\n",
       "        text-align: right;\n",
       "    }\n",
       "</style>\n",
       "<table border=\"1\" class=\"dataframe\">\n",
       "  <thead>\n",
       "    <tr style=\"text-align: right;\">\n",
       "      <th></th>\n",
       "      <th>1480</th>\n",
       "    </tr>\n",
       "  </thead>\n",
       "  <tbody>\n",
       "    <tr>\n",
       "      <th>travel cost (in Ä)</th>\n",
       "      <td>NaN</td>\n",
       "    </tr>\n",
       "    <tr>\n",
       "      <th>travel cost (in Ä)</th>\n",
       "      <td>25628.0</td>\n",
       "    </tr>\n",
       "    <tr>\n",
       "      <th>travel cost (in Ä)</th>\n",
       "      <td>NaN</td>\n",
       "    </tr>\n",
       "  </tbody>\n",
       "</table>\n",
       "</div>"
      ],
      "text/plain": [
       "                       1480\n",
       "travel cost (in Ä)      NaN\n",
       "travel cost (in Ä)  25628.0\n",
       "travel cost (in Ä)      NaN"
      ]
     },
     "execution_count": 568,
     "metadata": {},
     "output_type": "execute_result"
    }
   ],
   "source": [
    "cost_home = pd.DataFrame(cost_home)\n",
    "cost_home"
   ]
  },
  {
   "cell_type": "code",
   "execution_count": 569,
   "id": "022bbed2",
   "metadata": {},
   "outputs": [
    {
     "data": {
      "text/html": [
       "<div>\n",
       "<style scoped>\n",
       "    .dataframe tbody tr th:only-of-type {\n",
       "        vertical-align: middle;\n",
       "    }\n",
       "\n",
       "    .dataframe tbody tr th {\n",
       "        vertical-align: top;\n",
       "    }\n",
       "\n",
       "    .dataframe thead th {\n",
       "        text-align: right;\n",
       "    }\n",
       "</style>\n",
       "<table border=\"1\" class=\"dataframe\">\n",
       "  <thead>\n",
       "    <tr style=\"text-align: right;\">\n",
       "      <th></th>\n",
       "      <th>0</th>\n",
       "    </tr>\n",
       "  </thead>\n",
       "  <tbody>\n",
       "    <tr>\n",
       "      <th>travel cost (in Ä)</th>\n",
       "      <td>NaN</td>\n",
       "    </tr>\n",
       "    <tr>\n",
       "      <th>travel cost (in Ä)</th>\n",
       "      <td>25628.0</td>\n",
       "    </tr>\n",
       "    <tr>\n",
       "      <th>travel cost (in Ä)</th>\n",
       "      <td>NaN</td>\n",
       "    </tr>\n",
       "  </tbody>\n",
       "</table>\n",
       "</div>"
      ],
      "text/plain": [
       "                          0\n",
       "travel cost (in Ä)      NaN\n",
       "travel cost (in Ä)  25628.0\n",
       "travel cost (in Ä)      NaN"
      ]
     },
     "execution_count": 569,
     "metadata": {},
     "output_type": "execute_result"
    }
   ],
   "source": [
    "no_cost_home = len(cost_home.columns)\n",
    "header_cost_home = createlist(0, no_cost_home)\n",
    "cost_home.columns = header_cost_home\n",
    "cost_home"
   ]
  },
  {
   "cell_type": "code",
   "execution_count": 570,
   "id": "0b36ece6",
   "metadata": {},
   "outputs": [
    {
     "data": {
      "text/html": [
       "<div>\n",
       "<style scoped>\n",
       "    .dataframe tbody tr th:only-of-type {\n",
       "        vertical-align: middle;\n",
       "    }\n",
       "\n",
       "    .dataframe tbody tr th {\n",
       "        vertical-align: top;\n",
       "    }\n",
       "\n",
       "    .dataframe thead th {\n",
       "        text-align: right;\n",
       "    }\n",
       "</style>\n",
       "<table border=\"1\" class=\"dataframe\">\n",
       "  <thead>\n",
       "    <tr style=\"text-align: right;\">\n",
       "      <th></th>\n",
       "      <th>2941</th>\n",
       "    </tr>\n",
       "  </thead>\n",
       "  <tbody>\n",
       "    <tr>\n",
       "      <th>travel cost (in Ä)</th>\n",
       "      <td>7783.0</td>\n",
       "    </tr>\n",
       "    <tr>\n",
       "      <th>travel cost (in Ä)</th>\n",
       "      <td>NaN</td>\n",
       "    </tr>\n",
       "    <tr>\n",
       "      <th>travel cost (in Ä)</th>\n",
       "      <td>NaN</td>\n",
       "    </tr>\n",
       "    <tr>\n",
       "      <th>travel cost (in Ä)</th>\n",
       "      <td>NaN</td>\n",
       "    </tr>\n",
       "    <tr>\n",
       "      <th>travel cost (in Ä)</th>\n",
       "      <td>NaN</td>\n",
       "    </tr>\n",
       "    <tr>\n",
       "      <th>travel cost (in Ä)</th>\n",
       "      <td>NaN</td>\n",
       "    </tr>\n",
       "    <tr>\n",
       "      <th>travel cost (in Ä)</th>\n",
       "      <td>NaN</td>\n",
       "    </tr>\n",
       "    <tr>\n",
       "      <th>travel cost (in Ä)</th>\n",
       "      <td>NaN</td>\n",
       "    </tr>\n",
       "    <tr>\n",
       "      <th>travel cost (in Ä)</th>\n",
       "      <td>NaN</td>\n",
       "    </tr>\n",
       "    <tr>\n",
       "      <th>travel cost (in Ä)</th>\n",
       "      <td>NaN</td>\n",
       "    </tr>\n",
       "    <tr>\n",
       "      <th>travel cost (in Ä)</th>\n",
       "      <td>NaN</td>\n",
       "    </tr>\n",
       "    <tr>\n",
       "      <th>travel cost (in Ä)</th>\n",
       "      <td>NaN</td>\n",
       "    </tr>\n",
       "  </tbody>\n",
       "</table>\n",
       "</div>"
      ],
      "text/plain": [
       "                      2941\n",
       "travel cost (in Ä)  7783.0\n",
       "travel cost (in Ä)     NaN\n",
       "travel cost (in Ä)     NaN\n",
       "travel cost (in Ä)     NaN\n",
       "travel cost (in Ä)     NaN\n",
       "travel cost (in Ä)     NaN\n",
       "travel cost (in Ä)     NaN\n",
       "travel cost (in Ä)     NaN\n",
       "travel cost (in Ä)     NaN\n",
       "travel cost (in Ä)     NaN\n",
       "travel cost (in Ä)     NaN\n",
       "travel cost (in Ä)     NaN"
      ]
     },
     "execution_count": 570,
     "metadata": {},
     "output_type": "execute_result"
    }
   ],
   "source": [
    "list_ = pd.DataFrame(list_)\n",
    "list_"
   ]
  },
  {
   "cell_type": "code",
   "execution_count": null,
   "id": "3dca36f6",
   "metadata": {},
   "outputs": [],
   "source": []
  },
  {
   "cell_type": "code",
   "execution_count": 571,
   "id": "943d1fc2",
   "metadata": {},
   "outputs": [
    {
     "data": {
      "text/html": [
       "<div>\n",
       "<style scoped>\n",
       "    .dataframe tbody tr th:only-of-type {\n",
       "        vertical-align: middle;\n",
       "    }\n",
       "\n",
       "    .dataframe tbody tr th {\n",
       "        vertical-align: top;\n",
       "    }\n",
       "\n",
       "    .dataframe thead th {\n",
       "        text-align: right;\n",
       "    }\n",
       "</style>\n",
       "<table border=\"1\" class=\"dataframe\">\n",
       "  <thead>\n",
       "    <tr style=\"text-align: right;\">\n",
       "      <th></th>\n",
       "      <th>0</th>\n",
       "    </tr>\n",
       "  </thead>\n",
       "  <tbody>\n",
       "    <tr>\n",
       "      <th>travel cost (in Ä)</th>\n",
       "      <td>7783.0</td>\n",
       "    </tr>\n",
       "    <tr>\n",
       "      <th>travel cost (in Ä)</th>\n",
       "      <td>NaN</td>\n",
       "    </tr>\n",
       "    <tr>\n",
       "      <th>travel cost (in Ä)</th>\n",
       "      <td>NaN</td>\n",
       "    </tr>\n",
       "    <tr>\n",
       "      <th>travel cost (in Ä)</th>\n",
       "      <td>NaN</td>\n",
       "    </tr>\n",
       "    <tr>\n",
       "      <th>travel cost (in Ä)</th>\n",
       "      <td>NaN</td>\n",
       "    </tr>\n",
       "    <tr>\n",
       "      <th>travel cost (in Ä)</th>\n",
       "      <td>NaN</td>\n",
       "    </tr>\n",
       "    <tr>\n",
       "      <th>travel cost (in Ä)</th>\n",
       "      <td>NaN</td>\n",
       "    </tr>\n",
       "    <tr>\n",
       "      <th>travel cost (in Ä)</th>\n",
       "      <td>NaN</td>\n",
       "    </tr>\n",
       "    <tr>\n",
       "      <th>travel cost (in Ä)</th>\n",
       "      <td>NaN</td>\n",
       "    </tr>\n",
       "    <tr>\n",
       "      <th>travel cost (in Ä)</th>\n",
       "      <td>NaN</td>\n",
       "    </tr>\n",
       "    <tr>\n",
       "      <th>travel cost (in Ä)</th>\n",
       "      <td>NaN</td>\n",
       "    </tr>\n",
       "    <tr>\n",
       "      <th>travel cost (in Ä)</th>\n",
       "      <td>NaN</td>\n",
       "    </tr>\n",
       "  </tbody>\n",
       "</table>\n",
       "</div>"
      ],
      "text/plain": [
       "                         0\n",
       "travel cost (in Ä)  7783.0\n",
       "travel cost (in Ä)     NaN\n",
       "travel cost (in Ä)     NaN\n",
       "travel cost (in Ä)     NaN\n",
       "travel cost (in Ä)     NaN\n",
       "travel cost (in Ä)     NaN\n",
       "travel cost (in Ä)     NaN\n",
       "travel cost (in Ä)     NaN\n",
       "travel cost (in Ä)     NaN\n",
       "travel cost (in Ä)     NaN\n",
       "travel cost (in Ä)     NaN\n",
       "travel cost (in Ä)     NaN"
      ]
     },
     "execution_count": 571,
     "metadata": {},
     "output_type": "execute_result"
    }
   ],
   "source": [
    "no_list = len(list_.columns)\n",
    "header_list_ = createlist(0, no_list)\n",
    "list_.columns = header_list_\n",
    "list_"
   ]
  },
  {
   "cell_type": "code",
   "execution_count": 572,
   "id": "a4855cc7",
   "metadata": {},
   "outputs": [
    {
     "data": {
      "text/html": [
       "<div>\n",
       "<style scoped>\n",
       "    .dataframe tbody tr th:only-of-type {\n",
       "        vertical-align: middle;\n",
       "    }\n",
       "\n",
       "    .dataframe tbody tr th {\n",
       "        vertical-align: top;\n",
       "    }\n",
       "\n",
       "    .dataframe thead th {\n",
       "        text-align: right;\n",
       "    }\n",
       "</style>\n",
       "<table border=\"1\" class=\"dataframe\">\n",
       "  <thead>\n",
       "    <tr style=\"text-align: right;\">\n",
       "      <th></th>\n",
       "      <th>13</th>\n",
       "    </tr>\n",
       "  </thead>\n",
       "  <tbody>\n",
       "    <tr>\n",
       "      <th>origin port costs (in Ä)</th>\n",
       "      <td>30200</td>\n",
       "    </tr>\n",
       "  </tbody>\n",
       "</table>\n",
       "</div>"
      ],
      "text/plain": [
       "                             13\n",
       "origin port costs (in Ä)  30200"
      ]
     },
     "execution_count": 572,
     "metadata": {},
     "output_type": "execute_result"
    }
   ],
   "source": [
    "cost_vc_origin = pd.DataFrame(cost_vc_origin)\n",
    "cost_vc_origin"
   ]
  },
  {
   "cell_type": "code",
   "execution_count": 573,
   "id": "e2ebca3f",
   "metadata": {},
   "outputs": [
    {
     "data": {
      "text/html": [
       "<div>\n",
       "<style scoped>\n",
       "    .dataframe tbody tr th:only-of-type {\n",
       "        vertical-align: middle;\n",
       "    }\n",
       "\n",
       "    .dataframe tbody tr th {\n",
       "        vertical-align: top;\n",
       "    }\n",
       "\n",
       "    .dataframe thead th {\n",
       "        text-align: right;\n",
       "    }\n",
       "</style>\n",
       "<table border=\"1\" class=\"dataframe\">\n",
       "  <thead>\n",
       "    <tr style=\"text-align: right;\">\n",
       "      <th></th>\n",
       "      <th>0</th>\n",
       "    </tr>\n",
       "  </thead>\n",
       "  <tbody>\n",
       "    <tr>\n",
       "      <th>origin port costs (in Ä)</th>\n",
       "      <td>30200</td>\n",
       "    </tr>\n",
       "  </tbody>\n",
       "</table>\n",
       "</div>"
      ],
      "text/plain": [
       "                              0\n",
       "origin port costs (in Ä)  30200"
      ]
     },
     "execution_count": 573,
     "metadata": {},
     "output_type": "execute_result"
    }
   ],
   "source": [
    "no_cost_vc_origin = len(cost_vc_origin.columns)\n",
    "header_cost_vc_origin = createlist(0, no_cost_vc_origin)\n",
    "cost_vc_origin.columns = header_cost_vc_origin\n",
    "cost_vc_origin"
   ]
  },
  {
   "cell_type": "code",
   "execution_count": 574,
   "id": "6e965830",
   "metadata": {},
   "outputs": [
    {
     "data": {
      "text/html": [
       "<div>\n",
       "<style scoped>\n",
       "    .dataframe tbody tr th:only-of-type {\n",
       "        vertical-align: middle;\n",
       "    }\n",
       "\n",
       "    .dataframe tbody tr th {\n",
       "        vertical-align: top;\n",
       "    }\n",
       "\n",
       "    .dataframe thead th {\n",
       "        text-align: right;\n",
       "    }\n",
       "</style>\n",
       "<table border=\"1\" class=\"dataframe\">\n",
       "  <thead>\n",
       "    <tr style=\"text-align: right;\">\n",
       "      <th></th>\n",
       "      <th>13</th>\n",
       "    </tr>\n",
       "  </thead>\n",
       "  <tbody>\n",
       "    <tr>\n",
       "      <th>destination port costs (in Ä)</th>\n",
       "      <td>29828</td>\n",
       "    </tr>\n",
       "  </tbody>\n",
       "</table>\n",
       "</div>"
      ],
      "text/plain": [
       "                                  13\n",
       "destination port costs (in Ä)  29828"
      ]
     },
     "execution_count": 574,
     "metadata": {},
     "output_type": "execute_result"
    }
   ],
   "source": [
    "cost_vc_dest = pd.DataFrame(cost_vc_dest)\n",
    "cost_vc_dest"
   ]
  },
  {
   "cell_type": "code",
   "execution_count": 575,
   "id": "4da9b69c",
   "metadata": {},
   "outputs": [
    {
     "data": {
      "text/html": [
       "<div>\n",
       "<style scoped>\n",
       "    .dataframe tbody tr th:only-of-type {\n",
       "        vertical-align: middle;\n",
       "    }\n",
       "\n",
       "    .dataframe tbody tr th {\n",
       "        vertical-align: top;\n",
       "    }\n",
       "\n",
       "    .dataframe thead th {\n",
       "        text-align: right;\n",
       "    }\n",
       "</style>\n",
       "<table border=\"1\" class=\"dataframe\">\n",
       "  <thead>\n",
       "    <tr style=\"text-align: right;\">\n",
       "      <th></th>\n",
       "      <th>0</th>\n",
       "    </tr>\n",
       "  </thead>\n",
       "  <tbody>\n",
       "    <tr>\n",
       "      <th>destination port costs (in Ä)</th>\n",
       "      <td>29828</td>\n",
       "    </tr>\n",
       "  </tbody>\n",
       "</table>\n",
       "</div>"
      ],
      "text/plain": [
       "                                   0\n",
       "destination port costs (in Ä)  29828"
      ]
     },
     "execution_count": 575,
     "metadata": {},
     "output_type": "execute_result"
    }
   ],
   "source": [
    "no_cost_vc_dest = len(cost_vc_dest.columns)\n",
    "header_cost_vc_dest = createlist(0, no_cost_vc_dest)\n",
    "cost_vc_dest.columns = header_cost_vc_dest\n",
    "cost_vc_dest"
   ]
  },
  {
   "cell_type": "code",
   "execution_count": 576,
   "id": "48141252",
   "metadata": {},
   "outputs": [
    {
     "data": {
      "text/html": [
       "<div>\n",
       "<style scoped>\n",
       "    .dataframe tbody tr th:only-of-type {\n",
       "        vertical-align: middle;\n",
       "    }\n",
       "\n",
       "    .dataframe tbody tr th {\n",
       "        vertical-align: top;\n",
       "    }\n",
       "\n",
       "    .dataframe thead th {\n",
       "        text-align: right;\n",
       "    }\n",
       "</style>\n",
       "<table border=\"1\" class=\"dataframe\">\n",
       "  <thead>\n",
       "    <tr style=\"text-align: right;\">\n",
       "      <th></th>\n",
       "      <th>0</th>\n",
       "      <th>1</th>\n",
       "      <th>2</th>\n",
       "      <th>3</th>\n",
       "      <th>4</th>\n",
       "      <th>5</th>\n",
       "    </tr>\n",
       "  </thead>\n",
       "  <tbody>\n",
       "    <tr>\n",
       "      <th>cost of not transporting</th>\n",
       "      <td>790000.0</td>\n",
       "      <td>NaN</td>\n",
       "      <td>NaN</td>\n",
       "      <td>NaN</td>\n",
       "      <td>NaN</td>\n",
       "      <td>NaN</td>\n",
       "    </tr>\n",
       "    <tr>\n",
       "      <th>cost of not transporting</th>\n",
       "      <td>NaN</td>\n",
       "      <td>430790.0</td>\n",
       "      <td>NaN</td>\n",
       "      <td>NaN</td>\n",
       "      <td>NaN</td>\n",
       "      <td>NaN</td>\n",
       "    </tr>\n",
       "    <tr>\n",
       "      <th>cost of not transporting</th>\n",
       "      <td>NaN</td>\n",
       "      <td>NaN</td>\n",
       "      <td>200354.0</td>\n",
       "      <td>NaN</td>\n",
       "      <td>NaN</td>\n",
       "      <td>NaN</td>\n",
       "    </tr>\n",
       "    <tr>\n",
       "      <th>cost of not transporting</th>\n",
       "      <td>NaN</td>\n",
       "      <td>NaN</td>\n",
       "      <td>NaN</td>\n",
       "      <td>275455.0</td>\n",
       "      <td>NaN</td>\n",
       "      <td>NaN</td>\n",
       "    </tr>\n",
       "    <tr>\n",
       "      <th>cost of not transporting</th>\n",
       "      <td>NaN</td>\n",
       "      <td>NaN</td>\n",
       "      <td>NaN</td>\n",
       "      <td>NaN</td>\n",
       "      <td>642740.0</td>\n",
       "      <td>NaN</td>\n",
       "    </tr>\n",
       "    <tr>\n",
       "      <th>cost of not transporting</th>\n",
       "      <td>NaN</td>\n",
       "      <td>NaN</td>\n",
       "      <td>NaN</td>\n",
       "      <td>NaN</td>\n",
       "      <td>NaN</td>\n",
       "      <td>587198.0</td>\n",
       "    </tr>\n",
       "  </tbody>\n",
       "</table>\n",
       "</div>"
      ],
      "text/plain": [
       "                                 0         1         2         3         4  \\\n",
       "cost of not transporting  790000.0       NaN       NaN       NaN       NaN   \n",
       "cost of not transporting       NaN  430790.0       NaN       NaN       NaN   \n",
       "cost of not transporting       NaN       NaN  200354.0       NaN       NaN   \n",
       "cost of not transporting       NaN       NaN       NaN  275455.0       NaN   \n",
       "cost of not transporting       NaN       NaN       NaN       NaN  642740.0   \n",
       "cost of not transporting       NaN       NaN       NaN       NaN       NaN   \n",
       "\n",
       "                                 5  \n",
       "cost of not transporting       NaN  \n",
       "cost of not transporting       NaN  \n",
       "cost of not transporting       NaN  \n",
       "cost of not transporting       NaN  \n",
       "cost of not transporting       NaN  \n",
       "cost of not transporting  587198.0  "
      ]
     },
     "execution_count": 576,
     "metadata": {},
     "output_type": "execute_result"
    }
   ],
   "source": [
    "cost_of_not_transfer = pd.DataFrame(cost_of_not_transfer)\n",
    "cost_of_not_transfer"
   ]
  },
  {
   "cell_type": "code",
   "execution_count": 577,
   "id": "66b0e51a",
   "metadata": {},
   "outputs": [
    {
     "data": {
      "text/html": [
       "<div>\n",
       "<style scoped>\n",
       "    .dataframe tbody tr th:only-of-type {\n",
       "        vertical-align: middle;\n",
       "    }\n",
       "\n",
       "    .dataframe tbody tr th {\n",
       "        vertical-align: top;\n",
       "    }\n",
       "\n",
       "    .dataframe thead th {\n",
       "        text-align: right;\n",
       "    }\n",
       "</style>\n",
       "<table border=\"1\" class=\"dataframe\">\n",
       "  <thead>\n",
       "    <tr style=\"text-align: right;\">\n",
       "      <th></th>\n",
       "      <th>0</th>\n",
       "      <th>1</th>\n",
       "      <th>2</th>\n",
       "      <th>3</th>\n",
       "      <th>4</th>\n",
       "      <th>5</th>\n",
       "    </tr>\n",
       "  </thead>\n",
       "  <tbody>\n",
       "    <tr>\n",
       "      <th>cost of not transporting</th>\n",
       "      <td>790000.0</td>\n",
       "      <td>NaN</td>\n",
       "      <td>NaN</td>\n",
       "      <td>NaN</td>\n",
       "      <td>NaN</td>\n",
       "      <td>NaN</td>\n",
       "    </tr>\n",
       "    <tr>\n",
       "      <th>cost of not transporting</th>\n",
       "      <td>NaN</td>\n",
       "      <td>430790.0</td>\n",
       "      <td>NaN</td>\n",
       "      <td>NaN</td>\n",
       "      <td>NaN</td>\n",
       "      <td>NaN</td>\n",
       "    </tr>\n",
       "    <tr>\n",
       "      <th>cost of not transporting</th>\n",
       "      <td>NaN</td>\n",
       "      <td>NaN</td>\n",
       "      <td>200354.0</td>\n",
       "      <td>NaN</td>\n",
       "      <td>NaN</td>\n",
       "      <td>NaN</td>\n",
       "    </tr>\n",
       "    <tr>\n",
       "      <th>cost of not transporting</th>\n",
       "      <td>NaN</td>\n",
       "      <td>NaN</td>\n",
       "      <td>NaN</td>\n",
       "      <td>275455.0</td>\n",
       "      <td>NaN</td>\n",
       "      <td>NaN</td>\n",
       "    </tr>\n",
       "    <tr>\n",
       "      <th>cost of not transporting</th>\n",
       "      <td>NaN</td>\n",
       "      <td>NaN</td>\n",
       "      <td>NaN</td>\n",
       "      <td>NaN</td>\n",
       "      <td>642740.0</td>\n",
       "      <td>NaN</td>\n",
       "    </tr>\n",
       "    <tr>\n",
       "      <th>cost of not transporting</th>\n",
       "      <td>NaN</td>\n",
       "      <td>NaN</td>\n",
       "      <td>NaN</td>\n",
       "      <td>NaN</td>\n",
       "      <td>NaN</td>\n",
       "      <td>587198.0</td>\n",
       "    </tr>\n",
       "  </tbody>\n",
       "</table>\n",
       "</div>"
      ],
      "text/plain": [
       "                                 0         1         2         3         4  \\\n",
       "cost of not transporting  790000.0       NaN       NaN       NaN       NaN   \n",
       "cost of not transporting       NaN  430790.0       NaN       NaN       NaN   \n",
       "cost of not transporting       NaN       NaN  200354.0       NaN       NaN   \n",
       "cost of not transporting       NaN       NaN       NaN  275455.0       NaN   \n",
       "cost of not transporting       NaN       NaN       NaN       NaN  642740.0   \n",
       "cost of not transporting       NaN       NaN       NaN       NaN       NaN   \n",
       "\n",
       "                                 5  \n",
       "cost of not transporting       NaN  \n",
       "cost of not transporting       NaN  \n",
       "cost of not transporting       NaN  \n",
       "cost of not transporting       NaN  \n",
       "cost of not transporting       NaN  \n",
       "cost of not transporting  587198.0  "
      ]
     },
     "execution_count": 577,
     "metadata": {},
     "output_type": "execute_result"
    }
   ],
   "source": [
    "no_cost_of_not_transfer = len(cost_of_not_transfer.columns)\n",
    "header_cost_of_not_transfer = createlist(0, no_cost_of_not_transfer)\n",
    "cost_of_not_transfer.columns = header_cost_of_not_transfer\n",
    "cost_of_not_transfer"
   ]
  },
  {
   "cell_type": "code",
   "execution_count": 578,
   "id": "f5f2766a",
   "metadata": {},
   "outputs": [],
   "source": [
    "cost_home = cost_home.reset_index()\n",
    "cost_home = cost_home.drop('index', axis = 1)\n",
    "cost_home.fillna(0, axis = 1, inplace = True)\n",
    "cost_home_sum = 0\n",
    "for i in header_cost_home:\n",
    "    for j in range(0,len(cost_home.index)):\n",
    "        cost_home_sum = cost_home_sum + cost_home[i][j]"
   ]
  },
  {
   "cell_type": "code",
   "execution_count": 579,
   "id": "17fb3a18",
   "metadata": {},
   "outputs": [],
   "source": [
    "list_ = list_.reset_index()\n",
    "list_ = list_.drop('index', axis = 1)\n",
    "list_.fillna(0, axis = 1, inplace = True)\n",
    "list_sum = 0\n",
    "for i in header_list_:\n",
    "    for j in range(0,len(list_.index)):\n",
    "        list_sum = list_sum + list_[i][j]"
   ]
  },
  {
   "cell_type": "code",
   "execution_count": 580,
   "id": "bfb0db06",
   "metadata": {},
   "outputs": [],
   "source": [
    "cost_vc_origin = cost_vc_origin.reset_index()\n",
    "cost_vc_origin = cost_vc_origin.drop('index', axis = 1)\n",
    "cost_vc_origin.fillna(0, axis = 1, inplace = True)\n",
    "cost_vc_origin_sum = 0\n",
    "for i in header_cost_vc_origin:\n",
    "    for j in range(0,len(cost_vc_origin.index)):\n",
    "        cost_vc_origin_sum = cost_vc_origin_sum + cost_vc_origin[i][j]"
   ]
  },
  {
   "cell_type": "code",
   "execution_count": 581,
   "id": "0bd43035",
   "metadata": {},
   "outputs": [],
   "source": [
    "cost_vc_dest = cost_vc_dest.reset_index()\n",
    "cost_vc_dest = cost_vc_dest.drop('index', axis = 1)\n",
    "cost_vc_dest.fillna(0, axis = 1, inplace = True)\n",
    "cost_vc_dest_sum = 0\n",
    "for i in header_cost_vc_dest:\n",
    "    for j in range(0,len(cost_vc_dest.index)):\n",
    "        cost_vc_dest_sum = cost_vc_dest_sum + cost_vc_dest[i][j]"
   ]
  },
  {
   "cell_type": "code",
   "execution_count": 582,
   "id": "22118e9d",
   "metadata": {},
   "outputs": [],
   "source": [
    "cost_of_not_transfer = cost_of_not_transfer.reset_index()\n",
    "cost_of_not_transfer = cost_of_not_transfer.drop('index', axis = 1)\n",
    "cost_of_not_transfer.fillna(0, axis = 1, inplace = True)\n",
    "cost_of_not_transfer_sum = 0\n",
    "for i in header_cost_of_not_transfer:\n",
    "    for j in range(0,len(cost_of_not_transfer.index)):\n",
    "        cost_of_not_transfer_sum = cost_of_not_transfer_sum + cost_of_not_transfer[i][j]"
   ]
  },
  {
   "cell_type": "code",
   "execution_count": 583,
   "id": "75a8efc8",
   "metadata": {},
   "outputs": [],
   "source": [
    "Total_cost = cost_home_sum + list_sum + cost_vc_origin_sum + cost_vc_dest_sum + cost_of_not_transfer_sum"
   ]
  },
  {
   "cell_type": "code",
   "execution_count": 584,
   "id": "7540b435",
   "metadata": {},
   "outputs": [
    {
     "data": {
      "text/plain": [
       "3019976.0"
      ]
     },
     "execution_count": 584,
     "metadata": {},
     "output_type": "execute_result"
    }
   ],
   "source": [
    "Total_cost"
   ]
  },
  {
   "cell_type": "code",
   "execution_count": 107,
   "id": "e4e062e7",
   "metadata": {},
   "outputs": [
    {
     "data": {
      "text/plain": [
       "61686.0"
      ]
     },
     "execution_count": 107,
     "metadata": {},
     "output_type": "execute_result"
    }
   ],
   "source": [
    "1585322-Total_cost"
   ]
  },
  {
   "cell_type": "code",
   "execution_count": 327,
   "id": "883920ae",
   "metadata": {},
   "outputs": [
    {
     "data": {
      "text/plain": [
       "163067.0"
      ]
     },
     "execution_count": 327,
     "metadata": {},
     "output_type": "execute_result"
    }
   ],
   "source": [
    "cost_home_sum"
   ]
  },
  {
   "cell_type": "code",
   "execution_count": 328,
   "id": "3f2e8b64",
   "metadata": {},
   "outputs": [
    {
     "data": {
      "text/plain": [
       "1496245.0"
      ]
     },
     "execution_count": 328,
     "metadata": {},
     "output_type": "execute_result"
    }
   ],
   "source": [
    "cost_of_not_transfer_sum"
   ]
  },
  {
   "cell_type": "code",
   "execution_count": 329,
   "id": "f3aa88d6",
   "metadata": {},
   "outputs": [
    {
     "data": {
      "text/plain": [
       "142624.0"
      ]
     },
     "execution_count": 329,
     "metadata": {},
     "output_type": "execute_result"
    }
   ],
   "source": [
    "list_sum"
   ]
  },
  {
   "cell_type": "code",
   "execution_count": 330,
   "id": "230a7f7d",
   "metadata": {},
   "outputs": [
    {
     "data": {
      "text/plain": [
       "227625.0"
      ]
     },
     "execution_count": 330,
     "metadata": {},
     "output_type": "execute_result"
    }
   ],
   "source": [
    "cost_vc_origin_sum + cost_vc_dest_sum "
   ]
  },
  {
   "cell_type": "code",
   "execution_count": 331,
   "id": "88973f22",
   "metadata": {},
   "outputs": [
    {
     "data": {
      "text/html": [
       "<div>\n",
       "<style scoped>\n",
       "    .dataframe tbody tr th:only-of-type {\n",
       "        vertical-align: middle;\n",
       "    }\n",
       "\n",
       "    .dataframe tbody tr th {\n",
       "        vertical-align: top;\n",
       "    }\n",
       "\n",
       "    .dataframe thead th {\n",
       "        text-align: right;\n",
       "    }\n",
       "</style>\n",
       "<table border=\"1\" class=\"dataframe\">\n",
       "  <thead>\n",
       "    <tr style=\"text-align: right;\">\n",
       "      <th></th>\n",
       "      <th>0</th>\n",
       "      <th>1</th>\n",
       "      <th>2</th>\n",
       "    </tr>\n",
       "  </thead>\n",
       "  <tbody>\n",
       "    <tr>\n",
       "      <th>0</th>\n",
       "      <td>20103.0</td>\n",
       "      <td>0.0</td>\n",
       "      <td>0.0</td>\n",
       "    </tr>\n",
       "    <tr>\n",
       "      <th>1</th>\n",
       "      <td>0.0</td>\n",
       "      <td>58472.0</td>\n",
       "      <td>0.0</td>\n",
       "    </tr>\n",
       "    <tr>\n",
       "      <th>2</th>\n",
       "      <td>0.0</td>\n",
       "      <td>0.0</td>\n",
       "      <td>84492.0</td>\n",
       "    </tr>\n",
       "  </tbody>\n",
       "</table>\n",
       "</div>"
      ],
      "text/plain": [
       "         0        1        2\n",
       "0  20103.0      0.0      0.0\n",
       "1      0.0  58472.0      0.0\n",
       "2      0.0      0.0  84492.0"
      ]
     },
     "execution_count": 331,
     "metadata": {},
     "output_type": "execute_result"
    }
   ],
   "source": [
    "cost_home"
   ]
  },
  {
   "cell_type": "code",
   "execution_count": 332,
   "id": "8aeb2bb0",
   "metadata": {},
   "outputs": [
    {
     "data": {
      "text/html": [
       "<div>\n",
       "<style scoped>\n",
       "    .dataframe tbody tr th:only-of-type {\n",
       "        vertical-align: middle;\n",
       "    }\n",
       "\n",
       "    .dataframe tbody tr th {\n",
       "        vertical-align: top;\n",
       "    }\n",
       "\n",
       "    .dataframe thead th {\n",
       "        text-align: right;\n",
       "    }\n",
       "</style>\n",
       "<table border=\"1\" class=\"dataframe\">\n",
       "  <thead>\n",
       "    <tr style=\"text-align: right;\">\n",
       "      <th></th>\n",
       "      <th>0</th>\n",
       "      <th>1</th>\n",
       "      <th>2</th>\n",
       "      <th>3</th>\n",
       "      <th>4</th>\n",
       "    </tr>\n",
       "  </thead>\n",
       "  <tbody>\n",
       "    <tr>\n",
       "      <th>0</th>\n",
       "      <td>0.0</td>\n",
       "      <td>0.0</td>\n",
       "      <td>7783.0</td>\n",
       "      <td>0.0</td>\n",
       "      <td>0.0</td>\n",
       "    </tr>\n",
       "    <tr>\n",
       "      <th>1</th>\n",
       "      <td>0.0</td>\n",
       "      <td>5792.0</td>\n",
       "      <td>0.0</td>\n",
       "      <td>0.0</td>\n",
       "      <td>0.0</td>\n",
       "    </tr>\n",
       "    <tr>\n",
       "      <th>2</th>\n",
       "      <td>0.0</td>\n",
       "      <td>0.0</td>\n",
       "      <td>0.0</td>\n",
       "      <td>65817.0</td>\n",
       "      <td>0.0</td>\n",
       "    </tr>\n",
       "    <tr>\n",
       "      <th>3</th>\n",
       "      <td>0.0</td>\n",
       "      <td>0.0</td>\n",
       "      <td>0.0</td>\n",
       "      <td>0.0</td>\n",
       "      <td>0.0</td>\n",
       "    </tr>\n",
       "    <tr>\n",
       "      <th>4</th>\n",
       "      <td>63232.0</td>\n",
       "      <td>0.0</td>\n",
       "      <td>0.0</td>\n",
       "      <td>0.0</td>\n",
       "      <td>0.0</td>\n",
       "    </tr>\n",
       "    <tr>\n",
       "      <th>5</th>\n",
       "      <td>0.0</td>\n",
       "      <td>0.0</td>\n",
       "      <td>0.0</td>\n",
       "      <td>0.0</td>\n",
       "      <td>0.0</td>\n",
       "    </tr>\n",
       "    <tr>\n",
       "      <th>6</th>\n",
       "      <td>0.0</td>\n",
       "      <td>0.0</td>\n",
       "      <td>0.0</td>\n",
       "      <td>0.0</td>\n",
       "      <td>0.0</td>\n",
       "    </tr>\n",
       "    <tr>\n",
       "      <th>7</th>\n",
       "      <td>0.0</td>\n",
       "      <td>0.0</td>\n",
       "      <td>0.0</td>\n",
       "      <td>0.0</td>\n",
       "      <td>0.0</td>\n",
       "    </tr>\n",
       "    <tr>\n",
       "      <th>8</th>\n",
       "      <td>0.0</td>\n",
       "      <td>0.0</td>\n",
       "      <td>0.0</td>\n",
       "      <td>0.0</td>\n",
       "      <td>0.0</td>\n",
       "    </tr>\n",
       "    <tr>\n",
       "      <th>9</th>\n",
       "      <td>0.0</td>\n",
       "      <td>0.0</td>\n",
       "      <td>0.0</td>\n",
       "      <td>0.0</td>\n",
       "      <td>0.0</td>\n",
       "    </tr>\n",
       "  </tbody>\n",
       "</table>\n",
       "</div>"
      ],
      "text/plain": [
       "         0       1       2        3    4\n",
       "0      0.0     0.0  7783.0      0.0  0.0\n",
       "1      0.0  5792.0     0.0      0.0  0.0\n",
       "2      0.0     0.0     0.0  65817.0  0.0\n",
       "3      0.0     0.0     0.0      0.0  0.0\n",
       "4  63232.0     0.0     0.0      0.0  0.0\n",
       "5      0.0     0.0     0.0      0.0  0.0\n",
       "6      0.0     0.0     0.0      0.0  0.0\n",
       "7      0.0     0.0     0.0      0.0  0.0\n",
       "8      0.0     0.0     0.0      0.0  0.0\n",
       "9      0.0     0.0     0.0      0.0  0.0"
      ]
     },
     "execution_count": 332,
     "metadata": {},
     "output_type": "execute_result"
    }
   ],
   "source": [
    "list_"
   ]
  },
  {
   "cell_type": "code",
   "execution_count": 333,
   "id": "7b49b748",
   "metadata": {},
   "outputs": [
    {
     "data": {
      "text/html": [
       "<div>\n",
       "<style scoped>\n",
       "    .dataframe tbody tr th:only-of-type {\n",
       "        vertical-align: middle;\n",
       "    }\n",
       "\n",
       "    .dataframe tbody tr th {\n",
       "        vertical-align: top;\n",
       "    }\n",
       "\n",
       "    .dataframe thead th {\n",
       "        text-align: right;\n",
       "    }\n",
       "</style>\n",
       "<table border=\"1\" class=\"dataframe\">\n",
       "  <thead>\n",
       "    <tr style=\"text-align: right;\">\n",
       "      <th></th>\n",
       "      <th>0</th>\n",
       "      <th>1</th>\n",
       "      <th>2</th>\n",
       "      <th>3</th>\n",
       "    </tr>\n",
       "  </thead>\n",
       "  <tbody>\n",
       "    <tr>\n",
       "      <th>0</th>\n",
       "      <td>30200.0</td>\n",
       "      <td>0.0</td>\n",
       "      <td>0.0</td>\n",
       "      <td>0.0</td>\n",
       "    </tr>\n",
       "    <tr>\n",
       "      <th>1</th>\n",
       "      <td>0.0</td>\n",
       "      <td>23768.0</td>\n",
       "      <td>0.0</td>\n",
       "      <td>0.0</td>\n",
       "    </tr>\n",
       "    <tr>\n",
       "      <th>2</th>\n",
       "      <td>0.0</td>\n",
       "      <td>0.0</td>\n",
       "      <td>33227.0</td>\n",
       "      <td>0.0</td>\n",
       "    </tr>\n",
       "    <tr>\n",
       "      <th>3</th>\n",
       "      <td>0.0</td>\n",
       "      <td>0.0</td>\n",
       "      <td>0.0</td>\n",
       "      <td>23893.0</td>\n",
       "    </tr>\n",
       "  </tbody>\n",
       "</table>\n",
       "</div>"
      ],
      "text/plain": [
       "         0        1        2        3\n",
       "0  30200.0      0.0      0.0      0.0\n",
       "1      0.0  23768.0      0.0      0.0\n",
       "2      0.0      0.0  33227.0      0.0\n",
       "3      0.0      0.0      0.0  23893.0"
      ]
     },
     "execution_count": 333,
     "metadata": {},
     "output_type": "execute_result"
    }
   ],
   "source": [
    "cost_vc_origin"
   ]
  },
  {
   "cell_type": "code",
   "execution_count": 334,
   "id": "f30b51b7",
   "metadata": {},
   "outputs": [
    {
     "data": {
      "text/html": [
       "<div>\n",
       "<style scoped>\n",
       "    .dataframe tbody tr th:only-of-type {\n",
       "        vertical-align: middle;\n",
       "    }\n",
       "\n",
       "    .dataframe tbody tr th {\n",
       "        vertical-align: top;\n",
       "    }\n",
       "\n",
       "    .dataframe thead th {\n",
       "        text-align: right;\n",
       "    }\n",
       "</style>\n",
       "<table border=\"1\" class=\"dataframe\">\n",
       "  <thead>\n",
       "    <tr style=\"text-align: right;\">\n",
       "      <th></th>\n",
       "      <th>0</th>\n",
       "      <th>1</th>\n",
       "      <th>2</th>\n",
       "      <th>3</th>\n",
       "    </tr>\n",
       "  </thead>\n",
       "  <tbody>\n",
       "    <tr>\n",
       "      <th>0</th>\n",
       "      <td>29828.0</td>\n",
       "      <td>0.0</td>\n",
       "      <td>0.0</td>\n",
       "      <td>0.0</td>\n",
       "    </tr>\n",
       "    <tr>\n",
       "      <th>1</th>\n",
       "      <td>0.0</td>\n",
       "      <td>28042.0</td>\n",
       "      <td>0.0</td>\n",
       "      <td>0.0</td>\n",
       "    </tr>\n",
       "    <tr>\n",
       "      <th>2</th>\n",
       "      <td>0.0</td>\n",
       "      <td>0.0</td>\n",
       "      <td>25440.0</td>\n",
       "      <td>0.0</td>\n",
       "    </tr>\n",
       "    <tr>\n",
       "      <th>3</th>\n",
       "      <td>0.0</td>\n",
       "      <td>0.0</td>\n",
       "      <td>0.0</td>\n",
       "      <td>33227.0</td>\n",
       "    </tr>\n",
       "  </tbody>\n",
       "</table>\n",
       "</div>"
      ],
      "text/plain": [
       "         0        1        2        3\n",
       "0  29828.0      0.0      0.0      0.0\n",
       "1      0.0  28042.0      0.0      0.0\n",
       "2      0.0      0.0  25440.0      0.0\n",
       "3      0.0      0.0      0.0  33227.0"
      ]
     },
     "execution_count": 334,
     "metadata": {},
     "output_type": "execute_result"
    }
   ],
   "source": [
    "cost_vc_dest"
   ]
  },
  {
   "cell_type": "code",
   "execution_count": 443,
   "id": "b58ab484",
   "metadata": {},
   "outputs": [],
   "source": [
    "seen = []\n",
    "f = []\n",
    "g = []\n",
    "list_ = []\n",
    "for i in range(0, len(ret)):\n",
    "    for j in range(0, len(ret[i])):\n",
    "        if j+1 >= len(ret[i]):\n",
    "            continue\n",
    "        elif ret[i] == []:\n",
    "            list_.append(df_cost['travel cost (in Ä)'][(df_cost['vessel'] == 0) & (df_cost['origin port'] == 0) & (df_cost['destination port'] == 0)])\n",
    "    \n",
    "                                                                                                             \n",
    "        else:\n",
    "            #vessel = i+1\n",
    "            #origin_port = ret[i][j]\n",
    "            #dest_port = ret[i][j+1]\n",
    "            g = df_cargoes['origin port'][df_cargoes['cargo index'] == ret[i][j]]\n",
    "            f = df_cargoes['destination port'][df_cargoes['cargo index'] == ret[i][j+1]]\n",
    "            \n",
    "\n",
    "            \n",
    "            g = pd.DataFrame(g)\n",
    "            g = g.loc[: , :].values.tolist()\n",
    "            g = g[0][0]\n",
    "            \n",
    "            f = pd.DataFrame(f)\n",
    "            f = f.loc[: , :].values.tolist()\n",
    "            f = f[0][0]\n",
    "            if ret[i][j] not in seen:\n",
    "\n",
    "                list_.append(df_cost['travel cost (in Ä)'][(df_cost['vessel'] ==i+1) & (df_cost['origin port'] == g) & (df_cost['destination port'] == f)])\n",
    "                seen.append(ret[i][j])\n",
    "            else:\n",
    "                g = df_cargoes['origin port'][df_cargoes['cargo index'] == ret[i][j+1]]\n",
    "                f = df_cargoes['destination port'][df_cargoes['cargo index'] == ret[i][j]]\n",
    "            \n",
    "             \n",
    "                g = pd.DataFrame(g)\n",
    "                g = g.loc[: , :].values.tolist()\n",
    "                g = g[0][0]\n",
    "            \n",
    "                f = pd.DataFrame(f)\n",
    "                f = f.loc[: , :].values.tolist()\n",
    "                f = f[0][0]\n",
    "                \n",
    "                list_.append(df_cost['travel cost (in Ä)'][(df_cost['vessel'] ==i+1) & (df_cost['origin port'] == g) & (df_cost['destination port'] == f)])"
   ]
  },
  {
   "cell_type": "code",
   "execution_count": 444,
   "id": "de1afc85",
   "metadata": {},
   "outputs": [
    {
     "data": {
      "text/plain": [
       "[2940    7783.0\n",
       " Name: travel cost (in Ä), dtype: float64,\n",
       " 1951    5792.0\n",
       " Name: travel cost (in Ä), dtype: float64,\n",
       " 4427    65817.0\n",
       " Name: travel cost (in Ä), dtype: float64,\n",
       " 1151    2820.0\n",
       " Name: travel cost (in Ä), dtype: float64,\n",
       " 1166    63232.0\n",
       " Name: travel cost (in Ä), dtype: float64,\n",
       " Series([], Name: travel cost (in Ä), dtype: float64),\n",
       " Series([], Name: travel cost (in Ä), dtype: float64),\n",
       " Series([], Name: travel cost (in Ä), dtype: float64),\n",
       " Series([], Name: travel cost (in Ä), dtype: float64),\n",
       " Series([], Name: travel cost (in Ä), dtype: float64)]"
      ]
     },
     "execution_count": 444,
     "metadata": {},
     "output_type": "execute_result"
    }
   ],
   "source": [
    "list_"
   ]
  },
  {
   "cell_type": "code",
   "execution_count": 439,
   "id": "1d1da63c",
   "metadata": {},
   "outputs": [],
   "source": [
    "seen = []\n",
    "\n",
    "for i in range(0, len(ret)):\n",
    "    for j in range(0, len(ret[i])):\n",
    "        if j+1 >= len(ret[i]):\n",
    "            continue\n",
    "        elif ret[i] == []:\n",
    "            list_.append(df_cost['travel cost (in Ä)'][(df_cost['vessel'] == 0) & (df_cost['origin port'] == 0) & (df_cost['destination port'] == 0)])\n",
    "        elif ret[i][j] not in seen:\n",
    "            g = df_cargoes['origin port'][df_cargoes['cargo index'] == ret[i][j]]\n",
    "            f = df_cargoes['destination port'][df_cargoes['cargo index'] == ret[i][j+1]]\n",
    "\n",
    "\n",
    "            \n",
    "            g = pd.DataFrame(g)\n",
    "            g = g.loc[: , :].values.tolist()\n",
    "            g = g[0][0]\n",
    "            \n",
    "            f = pd.DataFrame(f)\n",
    "            f = f.loc[: , :].values.tolist()\n",
    "            f = f[0][0]\n",
    "            \n",
    "     \n",
    "            list_.append(df_cost['travel cost (in Ä)'][(df_cost['vessel'] ==i+1) & (df_cost['origin port'] == g) & (df_cost['destination port'] == f)])\n",
    "            seen.append(ret[i][j])\n",
    "        else:\n",
    "            g = df_cargoes['origin port'][df_cargoes['cargo index'] == ret[i][j+1]]\n",
    "            f = df_cargoes['destination port'][df_cargoes['cargo index'] == ret[i][j]]\n",
    "            \n",
    "             \n",
    "            g = pd.DataFrame(g)\n",
    "            g = g.loc[: , :].values.tolist()\n",
    "            g = g[0][0]\n",
    "            \n",
    "            f = pd.DataFrame(f)\n",
    "            f = f.loc[: , :].values.tolist()\n",
    "            f = f[0][0]\n",
    "            \n",
    "            list_.append(df_cost['travel cost (in Ä)'][(df_cost['vessel'] ==i+1) & (df_cost['origin port'] == g) & (df_cost['destination port'] == f)])\n",
    "\n",
    "\n",
    "            \n",
    "            \n",
    "                   "
   ]
  },
  {
   "cell_type": "code",
   "execution_count": 429,
   "id": "a6fba481",
   "metadata": {},
   "outputs": [],
   "source": [
    "g = df_cargoes['origin port'][df_cargoes['cargo index'] == ret[2][2]]\n",
    "f = df_cargoes['destination port'][df_cargoes['cargo index'] == ret[2][1]]\n",
    "            "
   ]
  },
  {
   "cell_type": "code",
   "execution_count": 440,
   "id": "85fe4e97",
   "metadata": {},
   "outputs": [
    {
     "data": {
      "text/plain": [
       "[660    7783.0\n",
       " Name: travel cost (in Ä), dtype: float64,\n",
       " 3091    5792.0\n",
       " Name: travel cost (in Ä), dtype: float64,\n",
       " 3857    65817.0\n",
       " Name: travel cost (in Ä), dtype: float64,\n",
       " 4442    0.0\n",
       " Name: travel cost (in Ä), dtype: float64,\n",
       " 4358    63232.0\n",
       " Name: travel cost (in Ä), dtype: float64,\n",
       " Series([], Name: travel cost (in Ä), dtype: float64),\n",
       " Series([], Name: travel cost (in Ä), dtype: float64),\n",
       " Series([], Name: travel cost (in Ä), dtype: float64),\n",
       " Series([], Name: travel cost (in Ä), dtype: float64),\n",
       " Series([], Name: travel cost (in Ä), dtype: float64),\n",
       " 2940    7783.0\n",
       " Name: travel cost (in Ä), dtype: float64,\n",
       " 1951    5792.0\n",
       " Name: travel cost (in Ä), dtype: float64,\n",
       " 4427    65817.0\n",
       " Name: travel cost (in Ä), dtype: float64,\n",
       " 4442    0.0\n",
       " Name: travel cost (in Ä), dtype: float64,\n",
       " 1166    63232.0\n",
       " Name: travel cost (in Ä), dtype: float64,\n",
       " Series([], Name: travel cost (in Ä), dtype: float64),\n",
       " Series([], Name: travel cost (in Ä), dtype: float64),\n",
       " Series([], Name: travel cost (in Ä), dtype: float64),\n",
       " Series([], Name: travel cost (in Ä), dtype: float64),\n",
       " Series([], Name: travel cost (in Ä), dtype: float64),\n",
       " 2940    7783.0\n",
       " Name: travel cost (in Ä), dtype: float64,\n",
       " 1951    5792.0\n",
       " Name: travel cost (in Ä), dtype: float64,\n",
       " 4427    65817.0\n",
       " Name: travel cost (in Ä), dtype: float64,\n",
       " 4442    0.0\n",
       " Name: travel cost (in Ä), dtype: float64,\n",
       " 1166    63232.0\n",
       " Name: travel cost (in Ä), dtype: float64,\n",
       " Series([], Name: travel cost (in Ä), dtype: float64),\n",
       " Series([], Name: travel cost (in Ä), dtype: float64),\n",
       " Series([], Name: travel cost (in Ä), dtype: float64),\n",
       " Series([], Name: travel cost (in Ä), dtype: float64),\n",
       " Series([], Name: travel cost (in Ä), dtype: float64),\n",
       " 2940    7783.0\n",
       " Name: travel cost (in Ä), dtype: float64,\n",
       " 1951    5792.0\n",
       " Name: travel cost (in Ä), dtype: float64,\n",
       " 4427    65817.0\n",
       " Name: travel cost (in Ä), dtype: float64,\n",
       " 4442    0.0\n",
       " Name: travel cost (in Ä), dtype: float64,\n",
       " 1166    63232.0\n",
       " Name: travel cost (in Ä), dtype: float64,\n",
       " Series([], Name: travel cost (in Ä), dtype: float64),\n",
       " Series([], Name: travel cost (in Ä), dtype: float64),\n",
       " Series([], Name: travel cost (in Ä), dtype: float64),\n",
       " Series([], Name: travel cost (in Ä), dtype: float64),\n",
       " Series([], Name: travel cost (in Ä), dtype: float64),\n",
       " 2940    7783.0\n",
       " Name: travel cost (in Ä), dtype: float64,\n",
       " 2940    7783.0\n",
       " Name: travel cost (in Ä), dtype: float64,\n",
       " 1951    5792.0\n",
       " Name: travel cost (in Ä), dtype: float64,\n",
       " 4427    65817.0\n",
       " Name: travel cost (in Ä), dtype: float64,\n",
       " 4442    0.0\n",
       " Name: travel cost (in Ä), dtype: float64,\n",
       " 1166    63232.0\n",
       " Name: travel cost (in Ä), dtype: float64,\n",
       " Series([], Name: travel cost (in Ä), dtype: float64),\n",
       " Series([], Name: travel cost (in Ä), dtype: float64),\n",
       " Series([], Name: travel cost (in Ä), dtype: float64),\n",
       " Series([], Name: travel cost (in Ä), dtype: float64),\n",
       " Series([], Name: travel cost (in Ä), dtype: float64),\n",
       " 2940    7783.0\n",
       " Name: travel cost (in Ä), dtype: float64,\n",
       " 1951    5792.0\n",
       " Name: travel cost (in Ä), dtype: float64,\n",
       " 4427    65817.0\n",
       " Name: travel cost (in Ä), dtype: float64,\n",
       " 4442    0.0\n",
       " Name: travel cost (in Ä), dtype: float64,\n",
       " 1166    63232.0\n",
       " Name: travel cost (in Ä), dtype: float64,\n",
       " Series([], Name: travel cost (in Ä), dtype: float64),\n",
       " Series([], Name: travel cost (in Ä), dtype: float64),\n",
       " Series([], Name: travel cost (in Ä), dtype: float64),\n",
       " Series([], Name: travel cost (in Ä), dtype: float64),\n",
       " Series([], Name: travel cost (in Ä), dtype: float64),\n",
       " 2940    7783.0\n",
       " Name: travel cost (in Ä), dtype: float64,\n",
       " 1951    5792.0\n",
       " Name: travel cost (in Ä), dtype: float64,\n",
       " 4427    65817.0\n",
       " Name: travel cost (in Ä), dtype: float64,\n",
       " 4442    0.0\n",
       " Name: travel cost (in Ä), dtype: float64,\n",
       " 1166    63232.0\n",
       " Name: travel cost (in Ä), dtype: float64,\n",
       " Series([], Name: travel cost (in Ä), dtype: float64),\n",
       " Series([], Name: travel cost (in Ä), dtype: float64),\n",
       " Series([], Name: travel cost (in Ä), dtype: float64),\n",
       " Series([], Name: travel cost (in Ä), dtype: float64),\n",
       " Series([], Name: travel cost (in Ä), dtype: float64),\n",
       " 2940    7783.0\n",
       " Name: travel cost (in Ä), dtype: float64,\n",
       " 1951    5792.0\n",
       " Name: travel cost (in Ä), dtype: float64,\n",
       " 4427    65817.0\n",
       " Name: travel cost (in Ä), dtype: float64,\n",
       " 4442    0.0\n",
       " Name: travel cost (in Ä), dtype: float64,\n",
       " 1166    63232.0\n",
       " Name: travel cost (in Ä), dtype: float64,\n",
       " Series([], Name: travel cost (in Ä), dtype: float64),\n",
       " Series([], Name: travel cost (in Ä), dtype: float64),\n",
       " Series([], Name: travel cost (in Ä), dtype: float64),\n",
       " Series([], Name: travel cost (in Ä), dtype: float64),\n",
       " Series([], Name: travel cost (in Ä), dtype: float64),\n",
       " 2940    7783.0\n",
       " Name: travel cost (in Ä), dtype: float64,\n",
       " 1951    5792.0\n",
       " Name: travel cost (in Ä), dtype: float64,\n",
       " 4427    65817.0\n",
       " Name: travel cost (in Ä), dtype: float64,\n",
       " 4442    0.0\n",
       " Name: travel cost (in Ä), dtype: float64,\n",
       " 1166    63232.0\n",
       " Name: travel cost (in Ä), dtype: float64,\n",
       " Series([], Name: travel cost (in Ä), dtype: float64),\n",
       " Series([], Name: travel cost (in Ä), dtype: float64),\n",
       " Series([], Name: travel cost (in Ä), dtype: float64),\n",
       " Series([], Name: travel cost (in Ä), dtype: float64),\n",
       " Series([], Name: travel cost (in Ä), dtype: float64),\n",
       " 2940    7783.0\n",
       " Name: travel cost (in Ä), dtype: float64,\n",
       " 1951    5792.0\n",
       " Name: travel cost (in Ä), dtype: float64,\n",
       " 4427    65817.0\n",
       " Name: travel cost (in Ä), dtype: float64,\n",
       " 4442    0.0\n",
       " Name: travel cost (in Ä), dtype: float64,\n",
       " 1166    63232.0\n",
       " Name: travel cost (in Ä), dtype: float64,\n",
       " Series([], Name: travel cost (in Ä), dtype: float64),\n",
       " Series([], Name: travel cost (in Ä), dtype: float64),\n",
       " Series([], Name: travel cost (in Ä), dtype: float64),\n",
       " Series([], Name: travel cost (in Ä), dtype: float64),\n",
       " Series([], Name: travel cost (in Ä), dtype: float64),\n",
       " 2940    7783.0\n",
       " Name: travel cost (in Ä), dtype: float64,\n",
       " 1951    5792.0\n",
       " Name: travel cost (in Ä), dtype: float64,\n",
       " 4427    65817.0\n",
       " Name: travel cost (in Ä), dtype: float64,\n",
       " 2940    7783.0\n",
       " Name: travel cost (in Ä), dtype: float64,\n",
       " 1951    5792.0\n",
       " Name: travel cost (in Ä), dtype: float64,\n",
       " 4427    65817.0\n",
       " Name: travel cost (in Ä), dtype: float64,\n",
       " 2940    7783.0\n",
       " Name: travel cost (in Ä), dtype: float64,\n",
       " 1951    5792.0\n",
       " Name: travel cost (in Ä), dtype: float64,\n",
       " 4427    65817.0\n",
       " Name: travel cost (in Ä), dtype: float64,\n",
       " 4442    0.0\n",
       " Name: travel cost (in Ä), dtype: float64,\n",
       " 1166    63232.0\n",
       " Name: travel cost (in Ä), dtype: float64,\n",
       " Series([], Name: travel cost (in Ä), dtype: float64),\n",
       " Series([], Name: travel cost (in Ä), dtype: float64),\n",
       " Series([], Name: travel cost (in Ä), dtype: float64),\n",
       " Series([], Name: travel cost (in Ä), dtype: float64),\n",
       " Series([], Name: travel cost (in Ä), dtype: float64),\n",
       " 2940    7783.0\n",
       " Name: travel cost (in Ä), dtype: float64,\n",
       " 1951    5792.0\n",
       " Name: travel cost (in Ä), dtype: float64,\n",
       " 4427    65817.0\n",
       " Name: travel cost (in Ä), dtype: float64,\n",
       " 2940    7783.0\n",
       " Name: travel cost (in Ä), dtype: float64,\n",
       " 1951    5792.0\n",
       " Name: travel cost (in Ä), dtype: float64,\n",
       " 4427    65817.0\n",
       " Name: travel cost (in Ä), dtype: float64,\n",
       " 1151    2820.0\n",
       " Name: travel cost (in Ä), dtype: float64,\n",
       " 1166    63232.0\n",
       " Name: travel cost (in Ä), dtype: float64,\n",
       " Series([], Name: travel cost (in Ä), dtype: float64),\n",
       " Series([], Name: travel cost (in Ä), dtype: float64),\n",
       " Series([], Name: travel cost (in Ä), dtype: float64),\n",
       " Series([], Name: travel cost (in Ä), dtype: float64),\n",
       " Series([], Name: travel cost (in Ä), dtype: float64)]"
      ]
     },
     "execution_count": 440,
     "metadata": {},
     "output_type": "execute_result"
    }
   ],
   "source": [
    "list_"
   ]
  },
  {
   "cell_type": "code",
   "execution_count": 390,
   "id": "6f796129",
   "metadata": {},
   "outputs": [
    {
     "data": {
      "text/plain": [
       "[[7, 7], [3, 3], [5, 5, 6, 6], [1, 4, 2, 1, 4, 2]]"
      ]
     },
     "execution_count": 390,
     "metadata": {},
     "output_type": "execute_result"
    }
   ],
   "source": [
    "ret"
   ]
  },
  {
   "cell_type": "code",
   "execution_count": 419,
   "id": "1f8b598d",
   "metadata": {},
   "outputs": [],
   "source": [
    "origin = []\n",
    "dest = []\n",
    "for i in range(0, len(ret)):\n",
    "    for j in range(0, len(ret[i])):\n",
    "        if ret[i][j] not in origin:\n",
    "            origin.append(ret[i][j])\n",
    "        else:\n",
    "            dest.append(ret[i][j])"
   ]
  },
  {
   "cell_type": "code",
   "execution_count": 423,
   "id": "3847b280",
   "metadata": {},
   "outputs": [],
   "source": [
    "s =[]\n",
    "for i in ret[2]:\n",
    "    for j in (0,3):\n",
    "        if ret[2][j] not in s:\n",
    "            s.append(ret[2][j])"
   ]
  },
  {
   "cell_type": "code",
   "execution_count": 424,
   "id": "da8d656e",
   "metadata": {},
   "outputs": [
    {
     "data": {
      "text/plain": [
       "[5, 6]"
      ]
     },
     "execution_count": 424,
     "metadata": {},
     "output_type": "execute_result"
    }
   ],
   "source": [
    "s"
   ]
  },
  {
   "cell_type": "code",
   "execution_count": 421,
   "id": "81712248",
   "metadata": {},
   "outputs": [
    {
     "data": {
      "text/plain": [
       "[7, 3, 5, 6, 1, 4, 2]"
      ]
     },
     "execution_count": 421,
     "metadata": {},
     "output_type": "execute_result"
    }
   ],
   "source": [
    "dest"
   ]
  },
  {
   "cell_type": "code",
   "execution_count": 404,
   "id": "fb378700",
   "metadata": {},
   "outputs": [
    {
     "data": {
      "text/plain": [
       "[[7, 7], [3, 3], [5, 5, 6, 6], [1, 4, 2, 1, 4, 2]]"
      ]
     },
     "execution_count": 404,
     "metadata": {},
     "output_type": "execute_result"
    }
   ],
   "source": [
    "ret"
   ]
  },
  {
   "cell_type": "code",
   "execution_count": 414,
   "id": "7554b81f",
   "metadata": {},
   "outputs": [],
   "source": [
    "origin = []\n",
    "dest = []\n",
    "for i in range(0, len(ret)):\n",
    "    for j in range(0, len(ret[i])):\n",
    "        if j//2 == 0:\n",
    "            origin.append(ret[i][j])\n",
    "        else:\n",
    "            dest.append(ret[i][j])"
   ]
  },
  {
   "cell_type": "code",
   "execution_count": 415,
   "id": "163cf7aa",
   "metadata": {},
   "outputs": [
    {
     "data": {
      "text/plain": [
       "[7, 7, 3, 3, 5, 5, 1, 4]"
      ]
     },
     "execution_count": 415,
     "metadata": {},
     "output_type": "execute_result"
    }
   ],
   "source": [
    "origin"
   ]
  },
  {
   "cell_type": "code",
   "execution_count": 416,
   "id": "a250e092",
   "metadata": {},
   "outputs": [
    {
     "data": {
      "text/plain": [
       "[6, 6, 2, 1, 4, 2]"
      ]
     },
     "execution_count": 416,
     "metadata": {},
     "output_type": "execute_result"
    }
   ],
   "source": [
    "dest"
   ]
  },
  {
   "cell_type": "code",
   "execution_count": 417,
   "id": "d2b9d3ae",
   "metadata": {},
   "outputs": [
    {
     "data": {
      "text/plain": [
       "1"
      ]
     },
     "execution_count": 417,
     "metadata": {},
     "output_type": "execute_result"
    }
   ],
   "source": [
    "3//2"
   ]
  },
  {
   "cell_type": "code",
   "execution_count": 418,
   "id": "53c32358",
   "metadata": {},
   "outputs": [
    {
     "data": {
      "text/plain": [
       "5"
      ]
     },
     "execution_count": 418,
     "metadata": {},
     "output_type": "execute_result"
    }
   ],
   "source": [
    "j"
   ]
  },
  {
   "cell_type": "code",
   "execution_count": null,
   "id": "d6167856",
   "metadata": {},
   "outputs": [],
   "source": []
  }
 ],
 "metadata": {
  "kernelspec": {
   "display_name": "Python 3 (ipykernel)",
   "language": "python",
   "name": "python3"
  },
  "language_info": {
   "codemirror_mode": {
    "name": "ipython",
    "version": 3
   },
   "file_extension": ".py",
   "mimetype": "text/x-python",
   "name": "python",
   "nbconvert_exporter": "python",
   "pygments_lexer": "ipython3",
   "version": "3.9.7"
  }
 },
 "nbformat": 4,
 "nbformat_minor": 5
}
